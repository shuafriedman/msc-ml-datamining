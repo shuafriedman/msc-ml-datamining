{
 "cells": [
  {
   "cell_type": "code",
   "execution_count": 2,
   "metadata": {},
   "outputs": [
    {
     "name": "stdout",
     "output_type": "stream",
     "text": [
      "all instances in train: 84237\n",
      "[Info] Dumping the processed data to pickle file data.map\n",
      "[Info] Finish.\n"
     ]
    }
   ],
   "source": [
    "# -*- coding: utf-8 -*-\n",
    "# @Author: xiegr\n",
    "# @Date:   2019-08-05 12:54:10\n",
    "# @Last Modified by:   xiegr\n",
    "# @Last Modified time: 2019-08-19 21:53:28\n",
    "import torch\n",
    "import random\n",
    "import argparse\n",
    "import os\n",
    "\n",
    "def split_src_tgt(max_sent_len, data_tgt_src):\n",
    "\t'''data_tgt_src:[[0,1,2],[1,1,2]], \n",
    "\tfirst one (0 and 1 here) is the class_number'''\n",
    "\tmax_sent_len += 1\n",
    "\tsrc_insts, tgt_insts = [], []\n",
    "\n",
    "\tfor tmp in data_tgt_src:\n",
    "\t\ttgt_insts += [tmp[:1]]\n",
    "\t\tsrc = tmp[1:max_sent_len]\n",
    "\t\tif len(src) < max_sent_len:\n",
    "\t\t\tsrc += [0]*(max_sent_len - len(src))\n",
    "\t\tsrc_insts += [src[1:max_sent_len]]\n",
    "\n",
    "\treturn src_insts, tgt_insts\n",
    "\n",
    "def read_txt_file(data_dir, max_sent_len, train_ratio, \n",
    "\tvalid_ratio, test_ratio):\n",
    "\t'''data.txt: 0 1 2 3\\n1 1 2 3\\n the first one is class_number'''\n",
    "\t# a list of .txt, [.txt, .txt]\n",
    "\tall_files = os.listdir(data_dir)\n",
    "\tall_int_data = []\n",
    "\tfor file in all_files:\n",
    "\t\twith open(os.path.join(data_dir,file)) as f:\n",
    "\t\t\tall_lines = f.readlines()\n",
    "\t\t\tfor line in all_lines:\n",
    "\t\t\t\t# every line, a list of integer [int, int,]\n",
    "\t\t\t\tline = list(map(int, line.split()))\n",
    "\t\t\t\t# every line is a packet\n",
    "\t\t\t\tall_int_data += [line]\n",
    "\n",
    "\trandom.shuffle(all_int_data)\n",
    "\t# all_int_data = [packet, packet,], packet = [int, int,]\n",
    "\ttrain = all_int_data[:int(len(all_int_data)*train_ratio)+1]\n",
    "\tvalid = all_int_data[int(len(all_int_data)*train_ratio):\n",
    "\tint(len(all_int_data)*(train_ratio+valid_ratio))+1]\n",
    "\ttest = all_int_data[int(len(all_int_data)*(train_ratio+valid_ratio)):]\n",
    "\n",
    "\ttrain_src,train_tgt = split_src_tgt(max_sent_len, train)\n",
    "\tvalid_src,valid_tgt = split_src_tgt(max_sent_len, valid)\n",
    "\ttest_src,test_tgt = split_src_tgt(max_sent_len, test)\n",
    "\n",
    "\n",
    "\t# they are all like [[],[],], 2-dim\n",
    "\treturn train_src,train_tgt,\\\n",
    "\tvalid_src,valid_tgt,\\\n",
    "\ttest_src,test_tgt\n",
    "\n",
    "if __name__ == '__main__':\n",
    "\tparser = argparse.ArgumentParser()\n",
    "\n",
    "\tparser.add_argument('-data_dir', type=str, default='data/')\n",
    "\tparser.add_argument('-train_ratio', type=float, default=0.6)\n",
    "\tparser.add_argument('-valid_ratio', type=float, default=0.2)\n",
    "\tparser.add_argument('-test_ratio', type=float, default=0.2)\n",
    "\tparser.add_argument('-save', type=str, default='data.map')\n",
    "\tparser.add_argument('-max_sent_len', type=int, default=40)\n",
    "\tparser.add_argument('-classes', type=int, default=9)\n",
    "\n",
    "\topt, _ = parser.parse_known_args()\n",
    "\n",
    "\t# Training set\n",
    "\ttrain_src,train_tgt,\\\n",
    "\tvalid_src,valid_tgt, \\\n",
    "\ttest_src,test_tgt, = read_txt_file(\\\n",
    "\t    opt.data_dir, opt.max_sent_len, \\\n",
    "\t    opt.train_ratio, opt.valid_ratio, opt.test_ratio)\n",
    "\n",
    "\tprint('all instances in train: %d'%len(train_tgt))\n",
    "\n",
    "\tdata = {\n",
    "\t    'settings': opt,\n",
    "\t    'train': {\n",
    "\t        'src': train_src,\n",
    "\t        'tgt': train_tgt},\n",
    "\t    'valid': {\n",
    "\t        'src': valid_src,\n",
    "\t        'tgt': valid_tgt},\n",
    "\t    'test': {\n",
    "\t        'src': test_src,\n",
    "\t        'tgt': test_tgt}\n",
    "\t        }\n",
    "\n",
    "\tprint('[Info] Dumping the processed data to pickle file', opt.save)\n",
    "\ttorch.save(data, opt.save)\n",
    "\tprint('[Info] Finish.')"
   ]
  },
  {
   "cell_type": "code",
   "execution_count": 15,
   "metadata": {},
   "outputs": [
    {
     "name": "stdout",
     "output_type": "stream",
     "text": [
      "40\n",
      "[0, 187, 5, 244, 88, 0, 64, 44, 17, 250, 214, 0, 0, 0, 0, 0, 0, 0, 0, 0]\n",
      "[7]\n",
      "7\n"
     ]
    }
   ],
   "source": [
    "#load an example from the train set\n",
    "\n",
    "import pandas as pd\n",
    "\n",
    "data = torch.load('data.map')\n",
    "train_src = data['train']['src']\n",
    "train_tgt = data['train']['tgt']\n",
    "print(len(train_src[0]))\n",
    "print(train_src[0][0:20])\n",
    "#print the label\n",
    "print(train_tgt[0])\n",
    "#print the label in the first packet\n",
    "print(train_tgt[0][0])"
   ]
  },
  {
   "cell_type": "code",
   "execution_count": 16,
   "metadata": {},
   "outputs": [],
   "source": [
    "import numpy"
   ]
  },
  {
   "cell_type": "code",
   "execution_count": null,
   "metadata": {},
   "outputs": [],
   "source": [
    "#load https.txt, and read an example"
   ]
  }
 ],
 "metadata": {
  "kernelspec": {
   "display_name": "Python 3",
   "language": "python",
   "name": "python3"
  },
  "language_info": {
   "codemirror_mode": {
    "name": "ipython",
    "version": 3
   },
   "file_extension": ".py",
   "mimetype": "text/x-python",
   "name": "python",
   "nbconvert_exporter": "python",
   "pygments_lexer": "ipython3",
   "version": "3.11.7"
  }
 },
 "nbformat": 4,
 "nbformat_minor": 2
}
