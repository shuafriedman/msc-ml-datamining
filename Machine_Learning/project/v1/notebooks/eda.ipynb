{
 "cells": [
  {
   "cell_type": "code",
   "execution_count": null,
   "metadata": {},
   "outputs": [],
   "source": []
  },
  {
   "cell_type": "code",
   "execution_count": null,
   "metadata": {},
   "outputs": [],
   "source": [
    "target = ['sale.lastSale.price']\n",
    "target_year = ['sale.lastSale.saleDate']\n",
    "\n",
    "years = ['assessment.assessmentYear', target_year[0], 'sale.priorSale.saleDate', 'building.yearBuilt'] #BuildingYearBuilt  MUST BE the last entryy in the list\n",
    "price_year_pairings = [('assessment.totalAssessedValue', 'assessment.assessmentYear'), ('sale.priorSale.price', 'sale.priorSale.saleDate'), (target[0], target_year[0])]\n"
   ]
  },
  {
   "cell_type": "code",
   "execution_count": null,
   "metadata": {},
   "outputs": [],
   "source": []
  },
  {
   "cell_type": "code",
   "execution_count": null,
   "metadata": {},
   "outputs": [],
   "source": []
  },
  {
   "cell_type": "code",
   "execution_count": 6,
   "metadata": {},
   "outputs": [
    {
     "data": {
      "text/plain": [
       "(4632, 385)"
      ]
     },
     "execution_count": 6,
     "metadata": {},
     "output_type": "execute_result"
    }
   ],
   "source": [
    "df_dropped_na = main_df.dropna(subset = ['price_sold_tagged', 'full_address', 'year_sold', 'sold_month', 'sold_day', 'address', 'address.houseNumber', 'street', 'city',\n",
    "        'state', 'zip', 'Bathroom_max_tagged',\n",
    " 'Bathroom_min_tagged',\n",
    " 'Bathroom_std_tagged',\n",
    " 'Bathroom_mean_tagged',\n",
    " 'Floor_max_tagged',\n",
    " 'Floor_min_tagged',\n",
    " 'Floor_std_tagged',\n",
    " 'Floor_mean_tagged',\n",
    " 'Walls_max_tagged',\n",
    " 'Walls_min_tagged',\n",
    " 'Walls_std_tagged',\n",
    " 'Walls_mean_tagged',\n",
    " 'Outview_tagged',\n",
    " 'Outview_std_tagged'], axis = 0)\n",
    "df_dropped_na.shape"
   ]
  },
  {
   "cell_type": "code",
   "execution_count": 7,
   "metadata": {},
   "outputs": [
    {
     "name": "stderr",
     "output_type": "stream",
     "text": [
      "/tmp/ipykernel_40555/3447556188.py:8: SettingWithCopyWarning: \n",
      "A value is trying to be set on a copy of a slice from a DataFrame.\n",
      "Try using .loc[row_indexer,col_indexer] = value instead\n",
      "\n",
      "See the caveats in the documentation: https://pandas.pydata.org/pandas-docs/stable/user_guide/indexing.html#returning-a-view-versus-a-copy\n",
      "  df_dropped_na.price_sold_tagged = df_dropped_na.price_sold_tagged.apply(convert_money)\n"
     ]
    }
   ],
   "source": [
    "from re import sub\n",
    "from decimal import Decimal\n",
    "def convert_money(x):\n",
    "    try:\n",
    "        return float(x)\n",
    "    except:\n",
    "        return Decimal(sub(r'[^\\d.]', '', x))\n",
    "df_dropped_na.price_sold_tagged = df_dropped_na.price_sold_tagged.apply(convert_money)"
   ]
  },
  {
   "cell_type": "code",
   "execution_count": 8,
   "metadata": {},
   "outputs": [
    {
     "data": {
      "text/plain": [
       "(4325, 385)"
      ]
     },
     "execution_count": 8,
     "metadata": {},
     "output_type": "execute_result"
    }
   ],
   "source": [
    "dub_addresses = df_dropped_na[df_dropped_na[['street']].duplicated(['street'])]['street']\n",
    "dub_df = df_dropped_na.loc[df_dropped_na['street'].isin(dub_addresses)]\n",
    "dub_df.shape"
   ]
  },
  {
   "cell_type": "code",
   "execution_count": 26,
   "metadata": {},
   "outputs": [
    {
     "data": {
      "text/plain": [
       "3           3913 york blvd\n",
       "5         4171 division st\n",
       "7          4234 palmero dr\n",
       "10      4237 caledonia way\n",
       "12         4613 jessica dr\n",
       "               ...        \n",
       "4726       1814 e 109th st\n",
       "4729       2217 e 117th st\n",
       "4731    2013 n corlett ave\n",
       "4733       2307 e 120th st\n",
       "4737     11709 compton ave\n",
       "Name: street, Length: 2203, dtype: object"
      ]
     },
     "execution_count": 26,
     "metadata": {},
     "output_type": "execute_result"
    }
   ],
   "source": [
    "dub_addresses"
   ]
  },
  {
   "cell_type": "code",
   "execution_count": 9,
   "metadata": {},
   "outputs": [],
   "source": [
    "dub_df.groupby(['street'])[['Bathroom_max_tagged',\n",
    " 'Bathroom_min_tagged',\n",
    " 'Bathroom_std_tagged',\n",
    " 'Bathroom_mean_tagged',\n",
    " 'Floor_max_tagged',\n",
    " 'Floor_min_tagged',\n",
    " 'Floor_std_tagged',\n",
    " 'Floor_mean_tagged',\n",
    " 'Walls_max_tagged',\n",
    " 'Walls_min_tagged',\n",
    " 'Walls_std_tagged',\n",
    " 'Walls_mean_tagged',\n",
    " 'Outview_tagged',\n",
    " 'Outview_std_tagged']].std()\n",
    "columns = ['full_address', 'address', 'sale_between', 'Bathroom_max_tagged',\n",
    " 'Bathroom_min_tagged',\n",
    " 'Bathroom_std_tagged',\n",
    " 'Bathroom_mean_tagged',\n",
    " 'Floor_max_tagged',\n",
    " 'Floor_min_tagged',\n",
    " 'Floor_std_tagged',\n",
    " 'Floor_mean_tagged',\n",
    " 'Walls_max_tagged',\n",
    " 'Walls_min_tagged',\n",
    " 'Walls_std_tagged',\n",
    " 'Walls_mean_tagged',\n",
    " 'Outview_tagged',\n",
    " 'Outview_std_tagged']\n",
    "\n",
    "aggregation_columns = ['Bathroom_max_tagged',\n",
    " 'Bathroom_min_tagged',\n",
    " 'Bathroom_std_tagged',\n",
    " 'Bathroom_mean_tagged',\n",
    " 'Floor_max_tagged',\n",
    " 'Floor_min_tagged',\n",
    " 'Floor_std_tagged',\n",
    " 'Floor_mean_tagged',\n",
    " 'Walls_max_tagged',\n",
    " 'Walls_min_tagged',\n",
    " 'Walls_std_tagged',\n",
    " 'Walls_mean_tagged',\n",
    " 'Outview_tagged',\n",
    " 'Outview_std_tagged']\n",
    " \n",
    "difference_df = pd.DataFrame(columns = columns)"
   ]
  },
  {
   "cell_type": "code",
   "execution_count": 38,
   "metadata": {},
   "outputs": [
    {
     "name": "stdout",
     "output_type": "stream",
     "text": [
      "76\n"
     ]
    }
   ],
   "source": [
    "list_of_data = []\n",
    "count =0\n",
    "for house in dub_df['street'].unique():\n",
    "    house_df = dub_df[dub_df['street'] == house].sort_values(by = ['year_sold', 'sold_month'], ascending = [False, False]).reset_index(drop = True)\n",
    "    #order the sales by their sale date\n",
    "    if house_df.shape[0] >2:\n",
    "        count+=1\n",
    "    for i, sale_a in house_df.iterrows():\n",
    "        # print(i)\n",
    "        # print(sale_a['year_sold'])\n",
    "        # sale_a = house_df.iloc[i]\n",
    "        sale_a = house_df.iloc[i]\n",
    "        try:\n",
    "\n",
    "            sale_b = house_df.iloc[i+1]\n",
    "    #         # print(i)\n",
    "    #         # print(sale_a['street'])\n",
    "    #         for j, sale_b in house_df.iterrows():\n",
    "    #             if sale_a > sale_b (don't want the model to predict against itself. Or do we?)\n",
    "    #             #     continue\n",
    "            data_point = dict()\n",
    "            data_point['full_address'] = sale_a['full_address']\n",
    "            data_point['street'] = house\n",
    "            data_point['sale_year'] = sale_a['year_sold']\n",
    "            data_point['prev_sale_year'] = sale_b['year_sold']\n",
    "            # data_point['time_between_sales'] = int(sale_a['year_sold']) - int(sale_b['year_sold']) #Need to fix in pre-processing\n",
    "\n",
    "            # print(data_point['sale_between'])\n",
    "            data_point['sale_price'] = sale_a['price_sold_tagged']\n",
    "            data_point['prev_sale_price'] = sale_b['price_sold_tagged']\n",
    "            data_point['price_difference'] = int(float(sale_a['price_sold_tagged'])) - int(float(sale_b['price_sold_tagged']))\n",
    "            # print(data_point['price_difference'])\n",
    "            # for col in aggregation_columns:\n",
    "            #     data_point[col] = int(sale_a[col]) - int(sale_b[col])\n",
    "            list_of_data.append(data_point)\n",
    "        except:\n",
    "            data_point = dict()\n",
    "            data_point['full_address'] = sale_a['full_address']\n",
    "            data_point['street'] = house\n",
    "            data_point['sale_year'] = sale_a['year_sold']\n",
    "            data_point['prev_sale_year'] = None\n",
    "            # data_point['time_between_sales'] = int(sale_a['year_sold']) - int(sale_b['year_sold']) #Need to fix in pre-processing\n",
    "\n",
    "            # print(data_point['sale_between'])\n",
    "            data_point['sale_price'] = sale_a['price_sold_tagged']\n",
    "            data_point['prev_sale_price'] = None\n",
    "            data_point['price_difference'] = None\n",
    "            # print(data_point['price_difference'])\n",
    "            # for col in aggregation_columns:\n",
    "            #     data_point[col] = None\n",
    "            list_of_data.append(data_point)\n",
    "\n",
    "print(count)    \n",
    "difference_df = pd.DataFrame.from_records(list_of_data)\n"
   ]
  },
  {
   "cell_type": "code",
   "execution_count": 39,
   "metadata": {},
   "outputs": [
    {
     "data": {
      "text/html": [
       "<div>\n",
       "<style scoped>\n",
       "    .dataframe tbody tr th:only-of-type {\n",
       "        vertical-align: middle;\n",
       "    }\n",
       "\n",
       "    .dataframe tbody tr th {\n",
       "        vertical-align: top;\n",
       "    }\n",
       "\n",
       "    .dataframe thead th {\n",
       "        text-align: right;\n",
       "    }\n",
       "</style>\n",
       "<table border=\"1\" class=\"dataframe\">\n",
       "  <thead>\n",
       "    <tr style=\"text-align: right;\">\n",
       "      <th></th>\n",
       "      <th>full_address</th>\n",
       "      <th>street</th>\n",
       "      <th>sale_year</th>\n",
       "      <th>prev_sale_year</th>\n",
       "      <th>sale_price</th>\n",
       "      <th>prev_sale_price</th>\n",
       "      <th>price_difference</th>\n",
       "    </tr>\n",
       "  </thead>\n",
       "  <tbody>\n",
       "    <tr>\n",
       "      <th>0</th>\n",
       "      <td>3913 York Boulevard, Los Angeles, CA 90065 Sol...</td>\n",
       "      <td>3913 york blvd</td>\n",
       "      <td>2021</td>\n",
       "      <td>2019</td>\n",
       "      <td>1030000.0</td>\n",
       "      <td>725000.0</td>\n",
       "      <td>305000.0</td>\n",
       "    </tr>\n",
       "    <tr>\n",
       "      <th>1</th>\n",
       "      <td>3913 York Boulevard, Los Angeles, CA 90065 Sol...</td>\n",
       "      <td>3913 york blvd</td>\n",
       "      <td>2019</td>\n",
       "      <td>None</td>\n",
       "      <td>725000.0</td>\n",
       "      <td>NaN</td>\n",
       "      <td>NaN</td>\n",
       "    </tr>\n",
       "    <tr>\n",
       "      <th>2</th>\n",
       "      <td>4171 Division Street, Los Angeles, CA 90065 So...</td>\n",
       "      <td>4171 division st</td>\n",
       "      <td>2020</td>\n",
       "      <td>2015</td>\n",
       "      <td>905000.0</td>\n",
       "      <td>680000.0</td>\n",
       "      <td>225000.0</td>\n",
       "    </tr>\n",
       "    <tr>\n",
       "      <th>3</th>\n",
       "      <td>4171 Division Street, Los Angeles, CA 90065 So...</td>\n",
       "      <td>4171 division st</td>\n",
       "      <td>2015</td>\n",
       "      <td>None</td>\n",
       "      <td>680000.0</td>\n",
       "      <td>NaN</td>\n",
       "      <td>NaN</td>\n",
       "    </tr>\n",
       "    <tr>\n",
       "      <th>4</th>\n",
       "      <td>4234 Palmero Drive, Los Angeles, CA 90065 Sold...</td>\n",
       "      <td>4234 palmero dr</td>\n",
       "      <td>2020</td>\n",
       "      <td>2017</td>\n",
       "      <td>1260000.0</td>\n",
       "      <td>844000.0</td>\n",
       "      <td>416000.0</td>\n",
       "    </tr>\n",
       "    <tr>\n",
       "      <th>...</th>\n",
       "      <td>...</td>\n",
       "      <td>...</td>\n",
       "      <td>...</td>\n",
       "      <td>...</td>\n",
       "      <td>...</td>\n",
       "      <td>...</td>\n",
       "      <td>...</td>\n",
       "    </tr>\n",
       "    <tr>\n",
       "      <th>4320</th>\n",
       "      <td>2013 N Corlett Avenue, Los Angeles, CA 90059 S...</td>\n",
       "      <td>2013 n corlett ave</td>\n",
       "      <td>2016</td>\n",
       "      <td>None</td>\n",
       "      <td>200000.0</td>\n",
       "      <td>NaN</td>\n",
       "      <td>NaN</td>\n",
       "    </tr>\n",
       "    <tr>\n",
       "      <th>4321</th>\n",
       "      <td>2307 E 120th St, Los Angeles, CA 90059 Sold Au...</td>\n",
       "      <td>2307 e 120th st</td>\n",
       "      <td>2021</td>\n",
       "      <td>2016</td>\n",
       "      <td>560000.0</td>\n",
       "      <td>335000.0</td>\n",
       "      <td>225000.0</td>\n",
       "    </tr>\n",
       "    <tr>\n",
       "      <th>4322</th>\n",
       "      <td>2307 E 120th Street, Los Angeles, CA 90059 Sol...</td>\n",
       "      <td>2307 e 120th st</td>\n",
       "      <td>2016</td>\n",
       "      <td>None</td>\n",
       "      <td>335000.0</td>\n",
       "      <td>NaN</td>\n",
       "      <td>NaN</td>\n",
       "    </tr>\n",
       "    <tr>\n",
       "      <th>4323</th>\n",
       "      <td>11709 Compton Avenue, Los Angeles, CA 90059 So...</td>\n",
       "      <td>11709 compton ave</td>\n",
       "      <td>2017</td>\n",
       "      <td>2017</td>\n",
       "      <td>200000.0</td>\n",
       "      <td>255000.0</td>\n",
       "      <td>-55000.0</td>\n",
       "    </tr>\n",
       "    <tr>\n",
       "      <th>4324</th>\n",
       "      <td>11709 Compton Avenue, Los Angeles, CA 90059 So...</td>\n",
       "      <td>11709 compton ave</td>\n",
       "      <td>2017</td>\n",
       "      <td>None</td>\n",
       "      <td>255000.0</td>\n",
       "      <td>NaN</td>\n",
       "      <td>NaN</td>\n",
       "    </tr>\n",
       "  </tbody>\n",
       "</table>\n",
       "<p>4325 rows × 7 columns</p>\n",
       "</div>"
      ],
      "text/plain": [
       "                                           full_address              street  \\\n",
       "0     3913 York Boulevard, Los Angeles, CA 90065 Sol...      3913 york blvd   \n",
       "1     3913 York Boulevard, Los Angeles, CA 90065 Sol...      3913 york blvd   \n",
       "2     4171 Division Street, Los Angeles, CA 90065 So...    4171 division st   \n",
       "3     4171 Division Street, Los Angeles, CA 90065 So...    4171 division st   \n",
       "4     4234 Palmero Drive, Los Angeles, CA 90065 Sold...     4234 palmero dr   \n",
       "...                                                 ...                 ...   \n",
       "4320  2013 N Corlett Avenue, Los Angeles, CA 90059 S...  2013 n corlett ave   \n",
       "4321  2307 E 120th St, Los Angeles, CA 90059 Sold Au...     2307 e 120th st   \n",
       "4322  2307 E 120th Street, Los Angeles, CA 90059 Sol...     2307 e 120th st   \n",
       "4323  11709 Compton Avenue, Los Angeles, CA 90059 So...   11709 compton ave   \n",
       "4324  11709 Compton Avenue, Los Angeles, CA 90059 So...   11709 compton ave   \n",
       "\n",
       "     sale_year prev_sale_year sale_price  prev_sale_price  price_difference  \n",
       "0         2021           2019  1030000.0         725000.0          305000.0  \n",
       "1         2019           None   725000.0              NaN               NaN  \n",
       "2         2020           2015   905000.0         680000.0          225000.0  \n",
       "3         2015           None   680000.0              NaN               NaN  \n",
       "4         2020           2017  1260000.0         844000.0          416000.0  \n",
       "...        ...            ...        ...              ...               ...  \n",
       "4320      2016           None   200000.0              NaN               NaN  \n",
       "4321      2021           2016   560000.0         335000.0          225000.0  \n",
       "4322      2016           None   335000.0              NaN               NaN  \n",
       "4323      2017           2017   200000.0         255000.0          -55000.0  \n",
       "4324      2017           None   255000.0              NaN               NaN  \n",
       "\n",
       "[4325 rows x 7 columns]"
      ]
     },
     "execution_count": 39,
     "metadata": {},
     "output_type": "execute_result"
    }
   ],
   "source": [
    "difference_df"
   ]
  },
  {
   "cell_type": "code",
   "execution_count": 40,
   "metadata": {},
   "outputs": [],
   "source": [
    "difference_df = difference_df.merge(dub_df, how = 'left', on = 'full_address', suffixes= ('', '_b'))"
   ]
  },
  {
   "cell_type": "code",
   "execution_count": 43,
   "metadata": {},
   "outputs": [
    {
     "data": {
      "text/plain": [
       "Index(['full_address', 'street', 'sale_year', 'prev_sale_year', 'sale_price',\n",
       "       'prev_sale_price', 'price_difference', 'address', 'street_b', 'city',\n",
       "       ...\n",
       "       'Floor_min_tagged', 'Floor_std_tagged', 'Floor_mean_tagged',\n",
       "       'Walls_max_tagged', 'Walls_min_tagged', 'Walls_std_tagged',\n",
       "       'Walls_mean_tagged', 'Outview_tagged', 'Outview_std_tagged',\n",
       "       's_tagged'],\n",
       "      dtype='object', length=391)"
      ]
     },
     "execution_count": 43,
     "metadata": {},
     "output_type": "execute_result"
    }
   ],
   "source": [
    "difference_df.columns"
   ]
  },
  {
   "cell_type": "code",
   "execution_count": 42,
   "metadata": {},
   "outputs": [],
   "source": [
    "difference_df.to_csv('/home/shua/Desktop/msc-ml-datamining/Machine_Learning/project/difference_df.csv')"
   ]
  }
 ],
 "metadata": {
  "kernelspec": {
   "display_name": "lev_ml",
   "language": "python",
   "name": "python3"
  },
  "language_info": {
   "codemirror_mode": {
    "name": "ipython",
    "version": 3
   },
   "file_extension": ".py",
   "mimetype": "text/x-python",
   "name": "python",
   "nbconvert_exporter": "python",
   "pygments_lexer": "ipython3",
   "version": "3.10.0 | packaged by conda-forge | (default, Nov 20 2021, 02:25:18) [GCC 9.4.0]"
  },
  "orig_nbformat": 4,
  "vscode": {
   "interpreter": {
    "hash": "08c4878952a3fd7112a89f2b48435e7b10e94f649272565e5b49c018510cb2ef"
   }
  }
 },
 "nbformat": 4,
 "nbformat_minor": 2
}
