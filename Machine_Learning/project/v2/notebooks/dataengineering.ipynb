{
 "cells": [
  {
   "attachments": {},
   "cell_type": "markdown",
   "metadata": {},
   "source": [
    "#### TODO\n",
    "\n",
    "1) initial results are pretty bad. I think we need to not have the previous sale of the house in the dataset. Need to be creative to find the best way to add in the previous house's information into the most recent sale.\n",
    "\n",
    "2) Did a knn imputer to fill in missing values. This filled in the \"prev_sale\" column with possibly misleading numbers. Implementing #1 should solve this\n",
    "\n"
   ]
  },
  {
   "attachments": {},
   "cell_type": "markdown",
   "metadata": {},
   "source": [
    "### Feature Engineering"
   ]
  },
  {
   "cell_type": "code",
   "execution_count": 90,
   "metadata": {},
   "outputs": [],
   "source": [
    "import pandas as pd\n",
    "import numpy as np\n",
    "df = pd.read_csv('/home/shua/Desktop/msc-ml-datamining/Machine_Learning/project/v2/data/cleansed_df.csv', index_col=0)"
   ]
  },
  {
   "cell_type": "code",
   "execution_count": 91,
   "metadata": {},
   "outputs": [],
   "source": [
    "#allow pandas to display all columns\n",
    "pd.set_option('display.max_columns', 400)"
   ]
  },
  {
   "cell_type": "code",
   "execution_count": 92,
   "metadata": {},
   "outputs": [
    {
     "data": {
      "text/plain": [
       "(4304, 55)"
      ]
     },
     "execution_count": 92,
     "metadata": {},
     "output_type": "execute_result"
    }
   ],
   "source": [
    "df.shape"
   ]
  },
  {
   "cell_type": "code",
   "execution_count": 93,
   "metadata": {},
   "outputs": [],
   "source": [
    "#get columns with missing value percent less than 12%\n",
    "ordinal = ['general.propertyTypeDetail'] \n",
    "\n",
    "one_hot = ['building.styleCode', 'building.roofCover','building.exteriorWalls', 'building.heatSource','building.constructionType', 'hoa_type' ] #'mls.heatingTypes', 'mls.coolingTypes',\n",
    "\n",
    "small_missing = ['building.fullBathroomCount', 'mls.bathroomCount', 'mls.bedroomCount',\n",
    "       'mls.lotSizeSquareFeet', 'EvaporativeCooler', 'SolarHeat', 'Fireplace',\n",
    "       'AC', 'Garage', 'Spa', 'Pool', 'AttachedGarage', 'SpaorHotTub',\n",
    "       'building.buildingQualityCode', 'mls.floorCount', 'building.heatSource',\n",
    "       'building.heatSourceCode']\n",
    "\n"
   ]
  },
  {
   "attachments": {},
   "cell_type": "markdown",
   "metadata": {},
   "source": [
    "Aggregation filling"
   ]
  },
  {
   "attachments": {},
   "cell_type": "markdown",
   "metadata": {},
   "source": [
    "TODO: mls.coolingtype types have too many unique values. Need to find a way to downsize it to use for one-hot-encoding"
   ]
  },
  {
   "cell_type": "code",
   "execution_count": 94,
   "metadata": {},
   "outputs": [],
   "source": [
    "# df = df.merge(df.groupby('zip')['sale_price'].mean(), on = 'zip', suffixes= ('','_y'))  #TODO: Caution: Might be an overfit when running with multiple sales. Also, might be worth to only average per zip, per year.\n",
    "# df.rename(columns = {'sale_price_y': 'average_zip_price'},  inplace= True,  )"
   ]
  },
  {
   "attachments": {},
   "cell_type": "markdown",
   "metadata": {},
   "source": [
    "#### Create Age Column"
   ]
  },
  {
   "cell_type": "code",
   "execution_count": 95,
   "metadata": {},
   "outputs": [],
   "source": [
    "df['age'] = df['sale.lastSale.saleDate'] - df['building.yearBuilt']"
   ]
  },
  {
   "cell_type": "code",
   "execution_count": 96,
   "metadata": {},
   "outputs": [],
   "source": [
    "df['overall_quality'] = df[['Kitchen_level_tagged', 'Bathroom_mean_tagged', 'Floor_mean_tagged', 'Walls_mean_tagged', 'Outview_tagged']].mean(axis=1)\n",
    "df['average_std_tagged'] = df[['Bathroom_std_tagged', 'Floor_std_tagged', 'Walls_std_tagged', 'Outview_std_tagged', 'Kitchen_level_std_tagged']].mean(axis=1)\n",
    "df['average_max_tagged'] = df[['Bathroom_max_tagged', 'Floor_max_tagged', 'Walls_max_tagged']].mean(axis=1)\n",
    "df['average_min_tagged'] = df[['Bathroom_min_tagged', 'Floor_min_tagged', 'Walls_min_tagged']].mean(axis=1)"
   ]
  },
  {
   "cell_type": "code",
   "execution_count": 97,
   "metadata": {},
   "outputs": [],
   "source": [
    "df = pd.get_dummies(df, columns= one_hot)"
   ]
  },
  {
   "cell_type": "markdown",
   "metadata": {},
   "source": [
    "Ordinal Encoding"
   ]
  },
  {
   "cell_type": "code",
   "execution_count": 98,
   "metadata": {},
   "outputs": [],
   "source": [
    "from sklearn.preprocessing import OrdinalEncoder\n",
    "# df.loc[:, ordinal] = ord.fit_transform(df['building.buildingQualityCode'].values.reshape(len(df['building.buildingQualityCode']), 1))\n",
    "ord_encoders = {}\n",
    "for col in ordinal:\n",
    "    ord = OrdinalEncoder(handle_unknown= 'use_encoded_value', unknown_value= len(df[col]) +1)\n",
    "    ord_encoders[col] = ord\n",
    "    df[col] = ord.fit_transform(df[col].values.reshape(len(df[col]), 1))\n",
    "\n",
    "# for col in ordinal:\n",
    "#     df[col] = ord_encoders[col].transform(df[col])"
   ]
  },
  {
   "attachments": {},
   "cell_type": "markdown",
   "metadata": {},
   "source": [
    "#### TODO log_transform on columns which need it (from EDA)"
   ]
  },
  {
   "attachments": {},
   "cell_type": "markdown",
   "metadata": {},
   "source": [
    "Outlier Removal: Remove all rows where chosen feature has a zscore of less than X amount"
   ]
  },
  {
   "cell_type": "code",
   "execution_count": 99,
   "metadata": {},
   "outputs": [],
   "source": [
    "from scipy import stats\n",
    "statcols = ['sale.lastSale.price']\n",
    "# df['statcol'] = df[target] - df[target]\n",
    "# statcols = ['statcol']\n",
    "abs_z_scores = np.abs(stats.zscore(df[statcols]))\n",
    "filtered_entries = (abs_z_scores < 3.5).all(axis=1)\n",
    "train = df[filtered_entries]\n",
    "# train.drop(['statcol'], axis = 1, inplace = True)"
   ]
  },
  {
   "cell_type": "code",
   "execution_count": 100,
   "metadata": {},
   "outputs": [
    {
     "name": "stdout",
     "output_type": "stream",
     "text": [
      "(4304, 94) (4263, 94)\n"
     ]
    }
   ],
   "source": [
    "print(df.shape, train.shape)"
   ]
  },
  {
   "cell_type": "code",
   "execution_count": 101,
   "metadata": {},
   "outputs": [],
   "source": [
    "import re\n",
    "regex = re.compile(r\"\\[|\\]|<\", re.IGNORECASE)\n",
    "train.columns = [regex.sub(\"_\", col) if any(x in str(col) for x in set(('[', ']', '<'))) else col for col in train.columns.values]\n"
   ]
  },
  {
   "cell_type": "code",
   "execution_count": 102,
   "metadata": {},
   "outputs": [],
   "source": [
    "train.to_csv('/home/shua/Desktop/msc-ml-datamining/Machine_Learning/project/v2/data/prepared_data.csv', index = False)"
   ]
  },
  {
   "cell_type": "code",
   "execution_count": null,
   "metadata": {},
   "outputs": [],
   "source": []
  }
 ],
 "metadata": {
  "kernelspec": {
   "display_name": "lev_ml",
   "language": "python",
   "name": "python3"
  },
  "language_info": {
   "codemirror_mode": {
    "name": "ipython",
    "version": 3
   },
   "file_extension": ".py",
   "mimetype": "text/x-python",
   "name": "python",
   "nbconvert_exporter": "python",
   "pygments_lexer": "ipython3",
   "version": "3.10.0 | packaged by conda-forge | (default, Nov 20 2021, 02:25:18) [GCC 9.4.0]"
  },
  "orig_nbformat": 4,
  "vscode": {
   "interpreter": {
    "hash": "08c4878952a3fd7112a89f2b48435e7b10e94f649272565e5b49c018510cb2ef"
   }
  }
 },
 "nbformat": 4,
 "nbformat_minor": 2
}
