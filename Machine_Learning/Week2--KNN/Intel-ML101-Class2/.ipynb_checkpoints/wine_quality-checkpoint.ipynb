{
 "cells": [
  {
   "cell_type": "code",
   "execution_count": null,
   "metadata": {
    "collapsed": true
   },
   "outputs": [],
   "source": [
    "#!/usr/bin/env python3\n",
    "# -*- coding: utf-8 -*-\n",
    "\"\"\"\n",
    "Created on Thu Mar 12 19:07:37 2020\n",
    "\n",
    "@author: yosi\n",
    "\"\"\"\n",
    "\n",
    "import numpy as np\n",
    "import pandas as pd\n",
    "from sklearn.preprocessing import StandardScaler\n",
    "from sklearn.linear_model import LinearRegression\n",
    "import seaborn as sns\n",
    "\n",
    "table = pd.read_csv('/home/yosi/Downloads/drive-download-20200226T073223Z-001/Intel-ML101-Class3/data/Wine_Quality_Data.csv')\n",
    "\n",
    "#isolate y from df\n",
    "y = table['quality']\n",
    "X = table.drop('quality', axis=1)\n",
    "\n",
    "#scale numerical columns this is important for GD!!!!!!!!!!\n",
    "num_cols = X.columns[X.dtypes.apply(lambda c: c==float)]\n",
    "scaler = StandardScaler()\n",
    "X[num_cols] = scaler.fit_transform(X[num_cols])\n",
    "\n",
    "#encode categorical columns\n",
    "X['color'] = X['color'].astype('category')\n",
    "X['color'] = X['color'].cat.codes\n",
    "\n",
    "#Exploratoin\n",
    "target_corr = X.corrwith(y).abs() #note the abs\n",
    "high_corr_col = target_corr.sort_values(ascending=False)\n",
    "high_corr_col = high_corr_col[high_corr_col.values>0.2].index\n",
    "\n",
    "columns_corr = X.corr().abs()\n",
    "sns.heatmap(X.corr())\n",
    "plt.show()\n",
    "\n",
    "# Define a function get_features()which outputs only those features whose correlation is above a threshold value (passed as an input parameter to function) and discard low correlated features.\n",
    "#Does it improve mse?\n",
    "\n",
    "# Create training and testing set using train_test_split. 25% of the data is used for testing and 75% for training. You can check the size of the dataset using x_train.shape\n",
    "\n",
    "x_train,x_test,y_train,y_test=train_test_split(X,y,random_state=3)\n",
    "reg = LinearRegression().fit(X[high_corr_col], y)\n",
    "reg.score(X[high_corr_col], y)\n",
    "reg.coef_\n",
    "reg.intercept_\n",
    "y_pred = reg.predict(X[high_corr_col])\n",
    "\n",
    "# mean squared error\n",
    "mse = np.mean((y - y_pred)**2)\n"
   ]
  }
 ],
 "metadata": {
  "kernelspec": {
   "display_name": "Python 3",
   "language": "python",
   "name": "python3"
  },
  "language_info": {
   "codemirror_mode": {
    "name": "ipython",
    "version": 3
   },
   "file_extension": ".py",
   "mimetype": "text/x-python",
   "name": "python",
   "nbconvert_exporter": "python",
   "pygments_lexer": "ipython3",
   "version": "3.7.0"
  }
 },
 "nbformat": 4,
 "nbformat_minor": 2
}
