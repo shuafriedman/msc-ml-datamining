{
 "cells": [
  {
   "cell_type": "code",
   "execution_count": 1,
   "metadata": {},
   "outputs": [],
   "source": [
    "import numpy as np"
   ]
  },
  {
   "cell_type": "code",
   "execution_count": 2,
   "metadata": {},
   "outputs": [],
   "source": [
    "#create random 3 channel image array with 100 samples of 32x32 pixels\n",
    "random_image = np.random.randint(0, 255, (100, 28, 28, 1), dtype=np.uint8)"
   ]
  },
  {
   "cell_type": "code",
   "execution_count": 3,
   "metadata": {},
   "outputs": [],
   "source": [
    "y = np.array([0]*50 + [1]*50)\n",
    "import random\n",
    "random.shuffle(y)\n"
   ]
  },
  {
   "cell_type": "code",
   "execution_count": 5,
   "metadata": {},
   "outputs": [],
   "source": [
    "from tensorflow import keras\n",
    "from tensorflow.keras import layers, initializers\n",
    "num_classes = 10\n",
    "model=keras.Sequential(\n",
    "[\n",
    "keras.Input(shape=(32, 32, 1)),\n",
    " keras.layers.Conv2D(32, kernel_size=(3, 3), activation=\"relu\"),\n",
    " keras.layers.MaxPooling2D(pool_size=(2, 2)),\n",
    " keras.layers.Conv2D(16, kernel_size=(5, 5), activation=\"relu\",padding='valid'),\n",
    " keras.layers.MaxPooling2D(pool_size=(2, 2)),\n",
    " keras.layers.Flatten(),\n",
    " keras.layers.Dense(num_classes, activation=\"softmax\"),\n",
    "]\n",
    ")\n",
    "\n"
   ]
  },
  {
   "cell_type": "code",
   "execution_count": 6,
   "metadata": {},
   "outputs": [],
   "source": [
    "model.compile(optimizer=\"rmsprop\",\n",
    "              loss=\"binary_crossentropy\",\n",
    "              metrics=[\"accuracy\"])"
   ]
  },
  {
   "cell_type": "code",
   "execution_count": 7,
   "metadata": {},
   "outputs": [
    {
     "data": {
      "text/plain": [
       "<keras.engine.sequential.Sequential at 0x7f55b8353ac0>"
      ]
     },
     "execution_count": 7,
     "metadata": {},
     "output_type": "execute_result"
    }
   ],
   "source": [
    "model"
   ]
  },
  {
   "cell_type": "code",
   "execution_count": 8,
   "metadata": {},
   "outputs": [
    {
     "name": "stdout",
     "output_type": "stream",
     "text": [
      "Model: \"sequential\"\n",
      "_________________________________________________________________\n",
      " Layer (type)                Output Shape              Param #   \n",
      "=================================================================\n",
      " conv2d_2 (Conv2D)           (None, 30, 30, 32)        320       \n",
      "                                                                 \n",
      " max_pooling2d_2 (MaxPooling  (None, 15, 15, 32)       0         \n",
      " 2D)                                                             \n",
      "                                                                 \n",
      " conv2d_3 (Conv2D)           (None, 11, 11, 16)        12816     \n",
      "                                                                 \n",
      " max_pooling2d_3 (MaxPooling  (None, 5, 5, 16)         0         \n",
      " 2D)                                                             \n",
      "                                                                 \n",
      " flatten_1 (Flatten)         (None, 400)               0         \n",
      "                                                                 \n",
      " dense (Dense)               (None, 10)                4010      \n",
      "                                                                 \n",
      "=================================================================\n",
      "Total params: 17,146\n",
      "Trainable params: 17,146\n",
      "Non-trainable params: 0\n",
      "_________________________________________________________________\n"
     ]
    }
   ],
   "source": [
    "model.summary()"
   ]
  },
  {
   "cell_type": "code",
   "execution_count": null,
   "metadata": {},
   "outputs": [
    {
     "ename": "NameError",
     "evalue": "name 'x' is not defined",
     "output_type": "error",
     "traceback": [
      "\u001b[0;31m---------------------------------------------------------------------------\u001b[0m",
      "\u001b[0;31mNameError\u001b[0m                                 Traceback (most recent call last)",
      "\u001b[1;32m/home/shua/Desktop/msc-ml-datamining/DeepLearning/Week1_IntroToNN/random.ipynb Cell 8\u001b[0m in \u001b[0;36m1\n\u001b[0;32m----> <a href='vscode-notebook-cell:/home/shua/Desktop/msc-ml-datamining/DeepLearning/Week1_IntroToNN/random.ipynb#X10sZmlsZQ%3D%3D?line=0'>1</a>\u001b[0m model\u001b[39m.\u001b[39mfit(x, y, epochs\u001b[39m=\u001b[39m\u001b[39m1\u001b[39m, batch_size\u001b[39m=\u001b[39m\u001b[39m100\u001b[39m)\n",
      "\u001b[0;31mNameError\u001b[0m: name 'x' is not defined"
     ]
    }
   ],
   "source": [
    "model.fit(x, y, epochs=1, batch_size=100)"
   ]
  },
  {
   "cell_type": "code",
   "execution_count": null,
   "metadata": {},
   "outputs": [
    {
     "name": "stdout",
     "output_type": "stream",
     "text": [
      "Layer 0\n",
      "positives 0\n",
      "negatives 320\n",
      "Layer 1\n",
      "positives 0\n",
      "negatives 16\n"
     ]
    }
   ],
   "source": [
    "\n",
    "for i, layer in enumerate(model.layers):\n",
    "    positives = []\n",
    "    negatives = []\n",
    "    for x in layer.get_weights()[0].flatten():\n",
    "        if x >0.0:\n",
    "            positives.append(x)\n",
    "        else:\n",
    "            negatives.append(x)\n",
    "    print(\"Layer\", i)\n",
    "    print(\"positives\", len(positives))\n",
    "    print(\"negatives\", len(negatives))\n"
   ]
  },
  {
   "cell_type": "code",
   "execution_count": null,
   "metadata": {},
   "outputs": [
    {
     "data": {
      "text/plain": [
       "array([-1.0602363e-07, -1.0602363e-07, -1.0602363e-07, -1.0602363e-07,\n",
       "       -1.0602363e-07, -1.0602363e-07, -1.0602363e-07, -1.0602363e-07,\n",
       "       -1.0602363e-07, -1.0602363e-07, -1.0602363e-07, -1.0602363e-07,\n",
       "       -1.0602363e-07, -1.0602363e-07, -1.0602363e-07, -1.0602363e-07],\n",
       "      dtype=float32)"
      ]
     },
     "execution_count": 286,
     "metadata": {},
     "output_type": "execute_result"
    }
   ],
   "source": [
    "model.layers[-1].get_weights()[0].flatten()"
   ]
  },
  {
   "cell_type": "code",
   "execution_count": null,
   "metadata": {},
   "outputs": [
    {
     "data": {
      "text/plain": [
       "0.7310585786300049"
      ]
     },
     "execution_count": 3,
     "metadata": {},
     "output_type": "execute_result"
    }
   ],
   "source": [
    "#run sigmoid on 3\n",
    "import numpy as np\n",
    "1/(1+np.exp(-1))"
   ]
  },
  {
   "cell_type": "code",
   "execution_count": null,
   "metadata": {},
   "outputs": [],
   "source": []
  }
 ],
 "metadata": {
  "kernelspec": {
   "display_name": "lev_ml",
   "language": "python",
   "name": "python3"
  },
  "language_info": {
   "codemirror_mode": {
    "name": "ipython",
    "version": 3
   },
   "file_extension": ".py",
   "mimetype": "text/x-python",
   "name": "python",
   "nbconvert_exporter": "python",
   "pygments_lexer": "ipython3",
   "version": "3.10.0"
  },
  "orig_nbformat": 4
 },
 "nbformat": 4,
 "nbformat_minor": 2
}
