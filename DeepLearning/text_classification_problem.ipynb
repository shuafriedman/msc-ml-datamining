{
 "cells": [
  {
   "cell_type": "code",
   "execution_count": null,
   "id": "9cb3fa28",
   "metadata": {},
   "outputs": [],
   "source": [
    "!pip install transformers evaluate datasets"
   ]
  },
  {
   "cell_type": "code",
   "execution_count": null,
   "id": "43284cd2",
   "metadata": {},
   "outputs": [],
   "source": [
    "import pandas as pd\n",
    "import numpy as np\n",
    "from sklearn.preprocessing import LabelEncoder\n",
    "from transformers import DistilBertTokenizerFast, TFDistilBertForSequenceClassification\n",
    "from sklearn.model_selection import train_test_split\n",
    "import tensorflow as tf\n",
    "from datasets import Dataset"
   ]
  },
  {
   "cell_type": "code",
   "execution_count": null,
   "id": "9587e6bd",
   "metadata": {},
   "outputs": [],
   "source": [
    "filepath = 'website_classification.csv'\n",
    "data = pd.read_csv(filepath, sep=',', index_col=0)"
   ]
  },
  {
   "cell_type": "code",
   "execution_count": null,
   "id": "575f3e3f",
   "metadata": {},
   "outputs": [],
   "source": [
    "data.head()"
   ]
  },
  {
   "cell_type": "code",
   "execution_count": null,
   "id": "00f69a18",
   "metadata": {},
   "outputs": [],
   "source": [
    "data.drop(\"website_url\", axis=1, inplace=True)"
   ]
  },
  {
   "cell_type": "code",
   "execution_count": null,
   "id": "5f4a26f7",
   "metadata": {},
   "outputs": [],
   "source": [
    "data.columns = ['text', 'label']"
   ]
  },
  {
   "cell_type": "code",
   "execution_count": null,
   "id": "fb3e196e",
   "metadata": {},
   "outputs": [],
   "source": [
    "data"
   ]
  },
  {
   "cell_type": "code",
   "execution_count": null,
   "id": "e0eaf263",
   "metadata": {},
   "outputs": [],
   "source": [
    "unique_labels = np.unique(data['label'])\n",
    "labels_count = len(unique_labels)\n",
    "ids= range(len(unique_labels))\n",
    "id2label = {k: v for k,v in zip(ids,unique_labels)}\n",
    "label2id = {v: k for k,v in zip(ids,unique_labels)}"
   ]
  },
  {
   "cell_type": "code",
   "execution_count": null,
   "id": "f33c6382",
   "metadata": {},
   "outputs": [],
   "source": [
    "dataset = Dataset.from_pandas(data)\n",
    "model_name='distilbert-base-uncased'"
   ]
  },
  {
   "cell_type": "code",
   "execution_count": null,
   "id": "c00ed236",
   "metadata": {},
   "outputs": [],
   "source": [
    "# le = LabelEncoder()\n",
    "\n",
    "# # Fit the label encoder and transform the labels in the DataFrame\n",
    "# data[\"label\"] = le.fit_transform(data[\"label\"])\n",
    "\n",
    "\n",
    "# Convert dataframe to a Hugging Face Dataset\n",
    "tokenizer = DistilBertTokenizerFast.from_pretrained(model_name)\n",
    "\n",
    "# Tokenize the text data\n",
    "def preprocess(examples):\n",
    "    return tokenizer(examples[\"text\"], truncation=True, padding='max_length', max_length=512)\n",
    "\n",
    "encoded_dataset = dataset.map(preprocess, batched=True)\n",
    "\n",
    "# Split into train and test\n",
    "dataset = encoded_dataset.train_test_split(test_size=0.2)"
   ]
  },
  {
   "cell_type": "code",
   "execution_count": null,
   "id": "7492adf7",
   "metadata": {},
   "outputs": [],
   "source": [
    "# Convert the labels to np.int32 data type\n",
    "def format_dataset(dataset):\n",
    "    dataset.set_format(type='tensorflow', columns=['input_ids', 'attention_mask', 'label'])\n",
    "    inputs = {\n",
    "        'input_ids': np.array(dataset['input_ids'], dtype=np.int32),\n",
    "        'attention_mask': np.array(dataset['attention_mask'], dtype=np.int32)\n",
    "    }\n",
    "    labels = np.array(dataset['label'], dtype=str)\n",
    "    return tf.data.Dataset.from_tensor_slices((inputs, labels))\n",
    "\n",
    "train_dataset = format_dataset(dataset['train'])\n",
    "test_dataset = format_dataset(dataset['test'])\n",
    "\n",
    "# Define the model\n"
   ]
  },
  {
   "cell_type": "code",
   "execution_count": null,
   "id": "f1196643",
   "metadata": {},
   "outputs": [],
   "source": [
    "model = TFDistilBertForSequenceClassification.from_pretrained(model_name, num_labels=labels_count, id2label=id2label, label2id=label2id)"
   ]
  },
  {
   "cell_type": "code",
   "execution_count": null,
   "id": "9a1b57e4",
   "metadata": {},
   "outputs": [],
   "source": [
    "import evaluate\n",
    "accuracy = evaluate.load(\"accuracy\")\n",
    "\n",
    "def compute_metrics(eval_pred):\n",
    "    predictions, labels = eval_pred\n",
    "    predictions = np.argmax(predictions, axis=1)\n",
    "    return accuracy.compute(predictions=predictions, references=labels)"
   ]
  },
  {
   "cell_type": "code",
   "execution_count": null,
   "id": "d8bc0c1f",
   "metadata": {},
   "outputs": [],
   "source": [
    "from transformers.keras_callbacks import KerasMetricCallback\n",
    "model.compile(optimizer=tf.keras.optimizers.Adam(learning_rate=5e-5), \n",
    "              loss=tf.keras.losses.SparseCategoricalCrossentropy(from_logits=True),\n",
    "              metrics=['accuracy'])\n",
    "\n",
    "metric_callback = KerasMetricCallback(metric_fn=compute_metrics, eval_dataset=test_dataset)\n",
    "callbacks = [metric_callback]"
   ]
  },
  {
   "cell_type": "code",
   "execution_count": null,
   "id": "d9781a18",
   "metadata": {},
   "outputs": [],
   "source": [
    "model.fit(train_dataset.batch(16), epochs=3, validation_data=test_dataset.batch(32), callbacks=callbacks)\n"
   ]
  },
  {
   "attachments": {},
   "cell_type": "markdown",
   "id": "f09ccdfb",
   "metadata": {},
   "source": [
    "Inference"
   ]
  },
  {
   "cell_type": "code",
   "execution_count": null,
   "id": "371d1d53",
   "metadata": {},
   "outputs": [],
   "source": [
    "sentences = [\n",
    "    \"The judge told the jurors to think carefully.\",\n",
    "    \"The judge told that the jurors to think carefully.\"\n",
    "]"
   ]
  },
  {
   "cell_type": "code",
   "execution_count": null,
   "id": "4b74bbf7",
   "metadata": {},
   "outputs": [],
   "source": [
    "tokenized = tokenizer(sentences, return_tensors=\"np\", padding=\"longest\")\n",
    "\n",
    "outputs = model(tokenized).logits\n",
    "\n",
    "classifications = np.argmax(outputs, axis=1)\n",
    "print(classifications)"
   ]
  },
  {
   "cell_type": "code",
   "execution_count": null,
   "id": "cf418700",
   "metadata": {},
   "outputs": [],
   "source": [
    "classifications = [model.config.id2label[output] for output in classifications]\n",
    "print(classifications)"
   ]
  }
 ],
 "metadata": {
  "kernelspec": {
   "display_name": "Python 3 (ipykernel)",
   "language": "python",
   "name": "python3"
  },
  "language_info": {
   "codemirror_mode": {
    "name": "ipython",
    "version": 3
   },
   "file_extension": ".py",
   "mimetype": "text/x-python",
   "name": "python",
   "nbconvert_exporter": "python",
   "pygments_lexer": "ipython3",
   "version": "3.10.0"
  }
 },
 "nbformat": 4,
 "nbformat_minor": 5
}
