{
 "cells": [
  {
   "attachments": {},
   "cell_type": "markdown",
   "metadata": {},
   "source": [
    "### KNN Targil 4 -- Shua Friedman\n"
   ]
  },
  {
   "attachments": {},
   "cell_type": "markdown",
   "metadata": {},
   "source": [
    "### Part 1"
   ]
  },
  {
   "cell_type": "code",
   "execution_count": 1,
   "metadata": {},
   "outputs": [],
   "source": [
    "import math\n",
    "import csv\n"
   ]
  },
  {
   "attachments": {},
   "cell_type": "markdown",
   "metadata": {},
   "source": [
    "Q1 and Q2"
   ]
  },
  {
   "cell_type": "code",
   "execution_count": 2,
   "metadata": {},
   "outputs": [
    {
     "name": "stdout",
     "output_type": "stream",
     "text": [
      "The vector [1, 1, 1] has tag M\n",
      "The vector [1, 2, 0] has tag F\n"
     ]
    }
   ],
   "source": [
    "point = [1, 0, 0, '?']\n",
    "data1 = [1, 1, 1, 'M']\n",
    "data2 = [1, 2, 0, 'F']\n",
    "\n",
    "print(f'The vector {data1[:-1]} has tag {data1[-1]}')\n",
    "print(f'The vector {data2[:-1]} has tag {data2[-1]}')"
   ]
  },
  {
   "attachments": {},
   "cell_type": "markdown",
   "metadata": {},
   "source": [
    "Q3"
   ]
  },
  {
   "cell_type": "code",
   "execution_count": 3,
   "metadata": {},
   "outputs": [],
   "source": [
    "def euclideanDistance(a, b, length):\n",
    "   distance = 0\n",
    "   for x in range(length):\n",
    "         n_1=float(a[x])\n",
    "         n_2=float(b[x])\n",
    "         distance += pow(n_1- n_2, 2)\n",
    "   return math.sqrt(distance)"
   ]
  },
  {
   "cell_type": "code",
   "execution_count": 4,
   "metadata": {},
   "outputs": [
    {
     "name": "stdout",
     "output_type": "stream",
     "text": [
      "The distance between [1, 1, 1] and [1, 2, 0] is 1.4142135623730951\n"
     ]
    }
   ],
   "source": [
    "#calculate distance between data1 and data2\n",
    "length = len(data1)-1\n",
    "distance = euclideanDistance(data1, data2, length)\n",
    "print(f'The distance between {data1[:-1]} and {data2[:-1]} is {distance}')"
   ]
  },
  {
   "attachments": {},
   "cell_type": "markdown",
   "metadata": {},
   "source": [
    "Q4a"
   ]
  },
  {
   "cell_type": "code",
   "execution_count": 5,
   "metadata": {},
   "outputs": [],
   "source": [
    "with open('myFile.csv', 'r') as myCsvfile:\n",
    "    lines = csv.reader(myCsvfile)\n",
    "    dataWithHeader = list(lines)\n",
    "dataset = dataWithHeader[1:]"
   ]
  },
  {
   "cell_type": "code",
   "execution_count": 6,
   "metadata": {},
   "outputs": [
    {
     "name": "stdout",
     "output_type": "stream",
     "text": [
      "The vector ['0', '1', '2'] has tag F\n",
      "The vector ['1', '5', '6'] has tag F\n"
     ]
    }
   ],
   "source": [
    "for i in range(2):\n",
    "    print(f'The vector {dataset[i][:-1]} has tag {dataset[i][-1]}')"
   ]
  },
  {
   "attachments": {},
   "cell_type": "markdown",
   "metadata": {},
   "source": [
    "Q4b"
   ]
  },
  {
   "cell_type": "code",
   "execution_count": 7,
   "metadata": {},
   "outputs": [
    {
     "name": "stdout",
     "output_type": "stream",
     "text": [
      "The distance between the first two vectors is 5.744562646538029\n"
     ]
    }
   ],
   "source": [
    "#distance btween the first two vectors\n",
    "distance = euclideanDistance(dataset[0][:-1], dataset[1][:-1], 3)\n",
    "print(f'The distance between the first two vectors is {distance}')"
   ]
  },
  {
   "attachments": {},
   "cell_type": "markdown",
   "metadata": {},
   "source": [
    "Q5"
   ]
  },
  {
   "cell_type": "code",
   "execution_count": 8,
   "metadata": {},
   "outputs": [],
   "source": [
    "class distClass:\n",
    "    dist = None #distance of current point from test point\n",
    "    tag = None #tag of current point"
   ]
  },
  {
   "cell_type": "code",
   "execution_count": 9,
   "metadata": {},
   "outputs": [
    {
     "name": "stdout",
     "output_type": "stream",
     "text": [
      "The distances between ['0', '1', '2', 'F'] and ['1', '5', '6'] is 5.744562646538029\n",
      " and the label is F\n",
      "The distances between ['0', '1', '2', 'F'] and ['1', '40', '1'] is 39.02563260217571\n",
      " and the label is M\n",
      "The distances between ['0', '1', '2', 'F'] and ['2', '2', '2'] is 2.23606797749979\n",
      " and the label is F\n",
      "The distances between ['0', '1', '2', 'F'] and ['0', '1', '20'] is 18.0\n",
      " and the label is M\n",
      "The distances between ['0', '1', '2', 'F'] and ['1', '5', '6'] is 5.744562646538029\n",
      " and the label is M\n",
      "The distances between ['0', '1', '2', 'F'] and ['1', '4', '1'] is 3.3166247903554\n",
      " and the label is M\n",
      "The distances between ['0', '1', '2', 'F'] and ['2', '22', '2'] is 21.095023109728988\n",
      " and the label is F\n",
      "The distances between ['0', '1', '2', 'F'] and ['2', '23', '2'] is 22.090722034374522\n",
      " and the label is M\n",
      "The distances between ['0', '1', '2', 'F'] and ['2', '24', '2'] is 23.08679276123039\n",
      " and the label is M\n"
     ]
    }
   ],
   "source": [
    "eucDistances = [] \n",
    "point = dataset[0]\n",
    "for i in range(len(dataset)):\n",
    "    if i == 0:\n",
    "        continue\n",
    "    temp=dataset[i]\n",
    "    label=temp[-1]\n",
    "    temp = temp[:-1]\n",
    "    length = len(temp)\n",
    "    d=euclideanDistance(point,temp,length)\n",
    "    print(\"The distances between \" + str(point) + \" and \" + str(temp) + \" is \" + str(d))\n",
    "    print(\" and the label is \" + label)\n",
    "    obj = distClass() #one record's distance and tag\n",
    "    obj.dist=d\n",
    "    obj.tag=label\n",
    "    eucDistances.append(obj)"
   ]
  },
  {
   "attachments": {},
   "cell_type": "markdown",
   "metadata": {},
   "source": [
    "Q6"
   ]
  },
  {
   "cell_type": "code",
   "execution_count": 10,
   "metadata": {},
   "outputs": [],
   "source": [
    "eucDistances.sort(key=lambda x: x.dist)\n"
   ]
  },
  {
   "attachments": {},
   "cell_type": "markdown",
   "metadata": {},
   "source": [
    "Q7"
   ]
  },
  {
   "cell_type": "code",
   "execution_count": 11,
   "metadata": {},
   "outputs": [
    {
     "name": "stdout",
     "output_type": "stream",
     "text": [
      "vector ['0', '1', '2', 'F'] has distance 2.23606797749979 and tag F\n",
      "vector ['1', '5', '6', 'F'] has distance 3.3166247903554 and tag M\n",
      "vector ['1', '40', '1', 'M'] has distance 5.744562646538029 and tag F\n",
      "vector ['2', '2', '2', 'F'] has distance 5.744562646538029 and tag M\n",
      "vector ['0', '1', '20', 'M'] has distance 18.0 and tag M\n",
      "vector ['1', '5', '6', 'M'] has distance 21.095023109728988 and tag F\n",
      "vector ['1', '4', '1', 'M'] has distance 22.090722034374522 and tag M\n",
      "vector ['2', '22', '2', 'F'] has distance 23.08679276123039 and tag M\n",
      "vector ['2', '23', '2', 'M'] has distance 39.02563260217571 and tag M\n"
     ]
    }
   ],
   "source": [
    "for i, x in enumerate(eucDistances):\n",
    "    print(f\"vector {dataset[i]} has distance {x.dist} and tag {x.tag}\")"
   ]
  },
  {
   "attachments": {},
   "cell_type": "markdown",
   "metadata": {},
   "source": [
    "Q8"
   ]
  },
  {
   "cell_type": "code",
   "execution_count": 12,
   "metadata": {},
   "outputs": [
    {
     "name": "stdout",
     "output_type": "stream",
     "text": [
      "With K=1, the tag for vector 'point' = : F\n"
     ]
    }
   ],
   "source": [
    "#nearest neighbors with k = 1 to poin\n",
    "print(f\"With K=1, the tag for vector 'point' = : {eucDistances[0].tag}\")"
   ]
  },
  {
   "attachments": {},
   "cell_type": "markdown",
   "metadata": {},
   "source": [
    "Q9"
   ]
  },
  {
   "cell_type": "code",
   "execution_count": 13,
   "metadata": {},
   "outputs": [
    {
     "name": "stdout",
     "output_type": "stream",
     "text": [
      "['F', 'M', 'F']\n",
      "With k = 3, the tag for vector 'point' = : F\n"
     ]
    }
   ],
   "source": [
    "import numpy as np\n",
    "k = 3\n",
    "top3 = [eucDistances[i].tag for i in range(k)]\n",
    "x, i = np.unique(top3, return_counts=True)\n",
    "top_tag = x[np.argmax(i)]\n",
    "print(top3)\n",
    "print(f\"With k = {k}, the tag for vector 'point' = : {top_tag}\")\n"
   ]
  },
  {
   "attachments": {},
   "cell_type": "markdown",
   "metadata": {},
   "source": [
    "#### Part 2 "
   ]
  },
  {
   "attachments": {},
   "cell_type": "markdown",
   "metadata": {},
   "source": [
    "Q1"
   ]
  },
  {
   "cell_type": "code",
   "execution_count": 14,
   "metadata": {},
   "outputs": [],
   "source": [
    "import pandas as pd\n",
    "from sklearn.metrics import accuracy_score"
   ]
  },
  {
   "cell_type": "code",
   "execution_count": 15,
   "metadata": {},
   "outputs": [],
   "source": [
    "#Gather the code from above into a function for easy use\n",
    "def knn_func(k,dataset,point, distance_func): #here we pass the distance function as a parameter\n",
    "  eucDistances = [] \n",
    "  for i in range(len(dataset)):\n",
    "    temp=dataset[i]\n",
    "    label=temp[-1]\n",
    "    temp = temp[:-1] #remove the tag\n",
    "    length=len(temp)\n",
    "    d=distance_func(point, temp, length)\n",
    "    obj = distClass() #one record's distance and tag\n",
    "    obj.dist=d\n",
    "    obj.tag=label\n",
    "    eucDistances.append(obj)\n",
    "    \n",
    "  eucDistances.sort(key=lambda x: x.dist)\n",
    "  top_k = [eucDistances[i].tag for i in range(k)]\n",
    "  x, i = np.unique(top_k, return_counts=True)\n",
    "  top_tag = x[np.argmax(i)]\n",
    "\n",
    "  return top_tag\n"
   ]
  },
  {
   "cell_type": "code",
   "execution_count": 16,
   "metadata": {},
   "outputs": [],
   "source": [
    "with open('myFile.csv', 'r') as myCsvfile2:\n",
    "    lines = csv.reader(myCsvfile2)\n",
    "    dataWithHeader = list(lines)\n",
    "\n",
    "dataWithHeader[1][3] = 'F'\n",
    "dataWithHeader[2][3] = 'M'\n",
    "\n",
    "with open('myFile_test.csv', 'w', newline='') as myCSVtest:\n",
    "    writer = csv.writer(myCSVtest)\n",
    "    writer.writerows(dataWithHeader)"
   ]
  },
  {
   "cell_type": "code",
   "execution_count": 17,
   "metadata": {},
   "outputs": [
    {
     "name": "stdout",
     "output_type": "stream",
     "text": [
      "Accuracy for k = 3 is: \n",
      "0.6\n"
     ]
    }
   ],
   "source": [
    "k = 3\n",
    "train = pd.read_csv('myFile.csv')\n",
    "test = pd.read_csv('myFile_test.csv')\n",
    "\n",
    "x_test = test.iloc[:,:-1] #divide the test data into x and y\n",
    "y_test = test.iloc[:, -1]\n",
    "y_pred = [] #list to store the predictions\n",
    "for row in x_test.iterrows():\n",
    "    index, data = row\n",
    "    y_pred.append(knn_func(k,train.values,data, euclideanDistance)) #perform knn on each row of test data with euclidean distance\n",
    "\n",
    "#get the accuracy\n",
    "print(f'Accuracy for k = {k} is: ')\n",
    "print(accuracy_score(y_test, y_pred))\n",
    "\n",
    "#replace the label in test with the predictions\n",
    "test.iloc[:, -1] = y_pred\n",
    "test.to_csv(f'myFile_test.csv', index=False)"
   ]
  },
  {
   "attachments": {},
   "cell_type": "markdown",
   "metadata": {},
   "source": [
    "Q2 a-d: Values of K for Euclidean Distance"
   ]
  },
  {
   "cell_type": "code",
   "execution_count": 18,
   "metadata": {},
   "outputs": [
    {
     "name": "stdout",
     "output_type": "stream",
     "text": [
      "Accuracy for k = 1 is: \n",
      "0.5\n",
      "Accuracy for k = 7 is: \n",
      "0.74\n",
      "Accuracy for k = 19 is: \n",
      "0.68\n"
     ]
    }
   ],
   "source": [
    "#cycle through different values of k, and run the knn function\n",
    "for k in [1,7,19]:\n",
    "    train = pd.read_csv('mytrain.csv')\n",
    "    test = pd.read_csv('mytest.csv')\n",
    "    x_test = test.iloc[:,:-1]\n",
    "    y_test = test.iloc[:, -1]\n",
    "    y_pred = []\n",
    "    for row in x_test.iterrows():\n",
    "        index, data = row\n",
    "        y_pred.append(knn_func(k,train.values,data, euclideanDistance))\n",
    "\n",
    "    #get the accuracy\n",
    "    print(f'Accuracy for k = {k} is: ')\n",
    "    print(accuracy_score(y_test, y_pred))\n",
    "\n",
    "    #replace the label in test with the predictions\n",
    "    test.iloc[:, -1] = y_pred\n",
    "    test.to_csv(f'mytest{k}e.csv', index=False)"
   ]
  },
  {
   "attachments": {},
   "cell_type": "markdown",
   "metadata": {},
   "source": [
    "    The most accurate value of k is = 7"
   ]
  },
  {
   "attachments": {},
   "cell_type": "markdown",
   "metadata": {},
   "source": [
    "Q2e: Values of K for Manhattan Distance"
   ]
  },
  {
   "cell_type": "code",
   "execution_count": 19,
   "metadata": {},
   "outputs": [],
   "source": [
    "def manhattan_distance(a, b, length):\n",
    "    distance = 0\n",
    "    for i in range(length):\n",
    "        distance += abs(a[i] - b[i])\n",
    "    return distance\n"
   ]
  },
  {
   "cell_type": "code",
   "execution_count": 20,
   "metadata": {},
   "outputs": [
    {
     "name": "stdout",
     "output_type": "stream",
     "text": [
      "Accuracy for k = 1 is: \n",
      "0.61\n",
      "Accuracy for k = 7 is: \n",
      "0.63\n",
      "Accuracy for k = 19 is: \n",
      "0.7\n"
     ]
    }
   ],
   "source": [
    "from sklearn.metrics import accuracy_score\n",
    "for k in [1,7,19]:\n",
    "    train = pd.read_csv('mytrain.csv')\n",
    "    test = pd.read_csv('mytest.csv')\n",
    "    x_test = test.iloc[:,:-1]\n",
    "    y_test = test.iloc[:, -1]\n",
    "    y_pred = []\n",
    "    for row in x_test.iterrows():\n",
    "        index, data = row\n",
    "        y_pred.append(knn_func(k,train.values,data, manhattan_distance))\n",
    "\n",
    "    #get the accuracy\n",
    "    print(f'Accuracy for k = {k} is: ')\n",
    "    print(accuracy_score(y_test, y_pred))\n",
    "\n",
    "    #replace the label in test with the predictions\n",
    "    test.iloc[:, -1] = y_pred\n",
    "    test.to_csv(f'mytest{k}m.csv', index=False)"
   ]
  },
  {
   "attachments": {},
   "cell_type": "markdown",
   "metadata": {},
   "source": [
    "Q2f: Values of K for Hamming Distance"
   ]
  },
  {
   "cell_type": "code",
   "execution_count": 21,
   "metadata": {},
   "outputs": [],
   "source": [
    "def hamming_distance(a,b,length):\n",
    "    distance = 0\n",
    "    for i in range(length):\n",
    "        if a[i] != b[i]:\n",
    "            distance += 1\n",
    "    return distance\n"
   ]
  },
  {
   "cell_type": "code",
   "execution_count": 22,
   "metadata": {},
   "outputs": [
    {
     "name": "stdout",
     "output_type": "stream",
     "text": [
      "Accuracy for k = 1 is: \n",
      "0.61\n",
      "Accuracy for k = 7 is: \n",
      "0.55\n",
      "Accuracy for k = 19 is: \n",
      "0.56\n"
     ]
    }
   ],
   "source": [
    "from sklearn.metrics import accuracy_score\n",
    "for k in [1,7,19]:\n",
    "    train = pd.read_csv('mytrain.csv')\n",
    "    test = pd.read_csv('mytest.csv')\n",
    "    x_test = test.iloc[:,:-1]\n",
    "    y_test = test.iloc[:, -1]\n",
    "    y_pred = []\n",
    "    for row in x_test.iterrows():\n",
    "        index, data = row\n",
    "        y_pred.append(knn_func(k,train.values,data, hamming_distance))\n",
    "\n",
    "    #get the accuracy\n",
    "    print(f'Accuracy for k = {k} is: ')\n",
    "    print(accuracy_score(y_test, y_pred))\n",
    "\n",
    "    #replace the label in test with the predictions\n",
    "    test.iloc[:, -1] = y_pred\n",
    "    test.to_csv(f'mytest{k}h.csv', index=False)"
   ]
  },
  {
   "attachments": {},
   "cell_type": "markdown",
   "metadata": {},
   "source": [
    "Q2g: Best combination"
   ]
  },
  {
   "attachments": {},
   "cell_type": "markdown",
   "metadata": {},
   "source": [
    "    The most accurate combination of K and distance function is K=7 and Euclidean Distance. The accuracy is 0.74\n"
   ]
  }
 ],
 "metadata": {
  "kernelspec": {
   "display_name": "lev_ml",
   "language": "python",
   "name": "python3"
  },
  "language_info": {
   "codemirror_mode": {
    "name": "ipython",
    "version": 3
   },
   "file_extension": ".py",
   "mimetype": "text/x-python",
   "name": "python",
   "nbconvert_exporter": "python",
   "pygments_lexer": "ipython3",
   "version": "3.10.0"
  },
  "orig_nbformat": 4,
  "vscode": {
   "interpreter": {
    "hash": "08c4878952a3fd7112a89f2b48435e7b10e94f649272565e5b49c018510cb2ef"
   }
  }
 },
 "nbformat": 4,
 "nbformat_minor": 2
}
