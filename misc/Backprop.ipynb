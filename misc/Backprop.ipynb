{
 "cells": [
  {
   "cell_type": "code",
   "execution_count": 1,
   "metadata": {},
   "outputs": [],
   "source": [
    "import math"
   ]
  },
  {
   "cell_type": "code",
   "execution_count": 136,
   "metadata": {},
   "outputs": [],
   "source": [
    "class Value:\n",
    "    def __init__(self, data:float, _op:str = '', _prev:tuple=(), label=''):\n",
    "        self.data = data\n",
    "        self._op = _op\n",
    "        self._prev = _prev #making this a set changes the topological sort for some reason (bias becomes first added, in the example)\n",
    "        self.grad = 0.0 #initially has no effect on the function\n",
    "        self._backward = lambda: None\n",
    "        self.label = label\n",
    "    def __repr__(self):\n",
    "        return f'Value({self.data})'\n",
    "    def __add__(self, b):\n",
    "        val = Value(self.data + b.data, _op= '+', _prev=(self, b))\n",
    "        def _backward():\n",
    "            self.grad += 1.0*val.grad ## NOTE: We require += because of gradient accumlation within a pass. e.g. b = a+a. The gradient of a here is 2, rather than 1. += takes care of that.\n",
    "            b.grad += 1.0*val.grad\n",
    "        val._backward = _backward\n",
    "        return val\n",
    "\n",
    "    def __mul__(self, b):\n",
    "        val= Value(self.data* b.data, _op= '*', _prev=(self, b))\n",
    "        def _backward():\n",
    "            self.grad += b.data*val.grad\n",
    "            b.grad += self.data*val.grad\n",
    "        val._backward = _backward\n",
    "        return val\n",
    "    \n",
    "    def relu(self):\n",
    "        if self.data >= 0:\n",
    "            value = self.data\n",
    "        else:\n",
    "            value = 0\n",
    "        val= Value(value, _op='relu', _prev=(self,))\n",
    "        def _backward():\n",
    "            if val.data >0:\n",
    "                self.grad+= 1.0*val.grad\n",
    "            else:\n",
    "                self.grad = 0\n",
    "        val._backward= _backward\n",
    "        return val\n",
    "    def tanh(self):\n",
    "        x = self.data\n",
    "        t = (math.exp(2*x) - 1)/(math.exp(2*x) + 1)\n",
    "        val = Value(t, _prev=(self, ), _op='tanh')\n",
    "        def _backward():\n",
    "            self.grad = (1-t**2)*val.grad #derivative of tanh = 1-tanh**2\n",
    "        val._backward = _backward\n",
    "        return val\n",
    "    \n",
    "    def backward(self):\n",
    "        order = []\n",
    "        visited = set()\n",
    "        def topological_sort(node):\n",
    "            if node not in visited:\n",
    "                print(node) #if node hasn't been visited\n",
    "                visited.add(node)   # add it to the visited set\n",
    "                for prev in node._prev: # Keep iterating through to the children nodes\n",
    "                    topological_sort(prev) # run again\n",
    "                order.append(node)        # Only once children nodes are done, add the parent\n",
    "        topological_sort(self)\n",
    "\n",
    "        self.grad = 1.0\n",
    "        for node in reversed(order):\n",
    "            node._backward() "
   ]
  },
  {
   "cell_type": "code",
   "execution_count": 54,
   "metadata": {},
   "outputs": [],
   "source": [
    "a = Value(3, label='a')\n",
    "b = Value(-4, label='b')\n",
    "c = a * b\n",
    "c.label='c'"
   ]
  },
  {
   "cell_type": "code",
   "execution_count": 55,
   "metadata": {},
   "outputs": [
    {
     "data": {
      "text/plain": [
       "-12"
      ]
     },
     "execution_count": 55,
     "metadata": {},
     "output_type": "execute_result"
    }
   ],
   "source": [
    "c.data"
   ]
  },
  {
   "cell_type": "code",
   "execution_count": 56,
   "metadata": {},
   "outputs": [],
   "source": [
    "from graphviz import Digraph\n",
    "\n",
    "def trace(root):\n",
    "    nodes, edges = set(), set()\n",
    "    def build(v):\n",
    "        if v not in nodes:\n",
    "            nodes.add(v)\n",
    "            for child in v._prev:\n",
    "                edges.add((child, v))\n",
    "                build(child)\n",
    "    build(root)\n",
    "    return nodes, edges\n",
    "\n",
    "def draw_dot(root, format='svg', rankdir='LR'):\n",
    "    \"\"\"\n",
    "    format: png | svg | ...\n",
    "    rankdir: TB (top to bottom graph) | LR (left to right)\n",
    "    \"\"\"\n",
    "    assert rankdir in ['LR', 'TB']\n",
    "    nodes, edges = trace(root)\n",
    "    dot = Digraph(format=format, graph_attr={'rankdir': rankdir}) #, node_attr={'rankdir': 'TB'})\n",
    "    \n",
    "    for n in nodes:\n",
    "        dot.node(name=str(id(n)), label = \"{%s | data %.4f | grad %.4f }\" % (n.label, n.data, n.grad), shape='record')\n",
    "        if n._op:\n",
    "            dot.node(name=str(id(n)) + n._op, label=n._op)\n",
    "            dot.edge(str(id(n)) + n._op, str(id(n)))\n",
    "    \n",
    "    for n1, n2 in edges:\n",
    "        dot.edge(str(id(n1)), str(id(n2)) + n2._op)\n",
    "    \n",
    "    return dot"
   ]
  },
  {
   "cell_type": "code",
   "execution_count": 57,
   "metadata": {},
   "outputs": [
    {
     "data": {
      "image/svg+xml": "<?xml version=\"1.0\" encoding=\"UTF-8\" standalone=\"no\"?>\n<!DOCTYPE svg PUBLIC \"-//W3C//DTD SVG 1.1//EN\"\n \"http://www.w3.org/Graphics/SVG/1.1/DTD/svg11.dtd\">\n<!-- Generated by graphviz version 2.43.0 (0)\n -->\n<!-- Title: %3 Pages: 1 -->\n<svg width=\"615pt\" height=\"100pt\"\n viewBox=\"0.00 0.00 615.00 100.00\" xmlns=\"http://www.w3.org/2000/svg\" xmlns:xlink=\"http://www.w3.org/1999/xlink\">\n<g id=\"graph0\" class=\"graph\" transform=\"scale(1 1) rotate(0) translate(4 96)\">\n<title>%3</title>\n<polygon fill=\"white\" stroke=\"transparent\" points=\"-4,4 -4,-96 611,-96 611,4 -4,4\"/>\n<!-- 139905008702256 -->\n<g id=\"node1\" class=\"node\">\n<title>139905008702256</title>\n<polygon fill=\"none\" stroke=\"black\" points=\"3,-55.5 3,-91.5 234,-91.5 234,-55.5 3,-55.5\"/>\n<text text-anchor=\"middle\" x=\"15.5\" y=\"-69.8\" font-family=\"Times,serif\" font-size=\"14.00\">a</text>\n<polyline fill=\"none\" stroke=\"black\" points=\"28,-55.5 28,-91.5 \"/>\n<text text-anchor=\"middle\" x=\"79\" y=\"-69.8\" font-family=\"Times,serif\" font-size=\"14.00\">data 3.0000</text>\n<polyline fill=\"none\" stroke=\"black\" points=\"130,-55.5 130,-91.5 \"/>\n<text text-anchor=\"middle\" x=\"182\" y=\"-69.8\" font-family=\"Times,serif\" font-size=\"14.00\">grad 0.0000</text>\n</g>\n<!-- 139905008710704* -->\n<g id=\"node3\" class=\"node\">\n<title>139905008710704*</title>\n<ellipse fill=\"none\" stroke=\"black\" cx=\"300\" cy=\"-45.5\" rx=\"27\" ry=\"18\"/>\n<text text-anchor=\"middle\" x=\"300\" y=\"-41.8\" font-family=\"Times,serif\" font-size=\"14.00\">*</text>\n</g>\n<!-- 139905008702256&#45;&gt;139905008710704* -->\n<g id=\"edge3\" class=\"edge\">\n<title>139905008702256&#45;&gt;139905008710704*</title>\n<path fill=\"none\" stroke=\"black\" d=\"M234.2,-55.61C244.76,-53.96 254.83,-52.39 263.74,-51\"/>\n<polygon fill=\"black\" stroke=\"black\" points=\"264.3,-54.46 273.64,-49.46 263.22,-47.54 264.3,-54.46\"/>\n</g>\n<!-- 139905008710704 -->\n<g id=\"node2\" class=\"node\">\n<title>139905008710704</title>\n<polygon fill=\"none\" stroke=\"black\" points=\"363,-27.5 363,-63.5 607,-63.5 607,-27.5 363,-27.5\"/>\n<text text-anchor=\"middle\" x=\"375\" y=\"-41.8\" font-family=\"Times,serif\" font-size=\"14.00\">c</text>\n<polyline fill=\"none\" stroke=\"black\" points=\"387,-27.5 387,-63.5 \"/>\n<text text-anchor=\"middle\" x=\"445\" y=\"-41.8\" font-family=\"Times,serif\" font-size=\"14.00\">data &#45;12.0000</text>\n<polyline fill=\"none\" stroke=\"black\" points=\"503,-27.5 503,-63.5 \"/>\n<text text-anchor=\"middle\" x=\"555\" y=\"-41.8\" font-family=\"Times,serif\" font-size=\"14.00\">grad 0.0000</text>\n</g>\n<!-- 139905008710704*&#45;&gt;139905008710704 -->\n<g id=\"edge1\" class=\"edge\">\n<title>139905008710704*&#45;&gt;139905008710704</title>\n<path fill=\"none\" stroke=\"black\" d=\"M327.22,-45.5C334.7,-45.5 343.4,-45.5 352.79,-45.5\"/>\n<polygon fill=\"black\" stroke=\"black\" points=\"352.8,-49 362.8,-45.5 352.8,-42 352.8,-49\"/>\n</g>\n<!-- 139905008708016 -->\n<g id=\"node4\" class=\"node\">\n<title>139905008708016</title>\n<polygon fill=\"none\" stroke=\"black\" points=\"0,-0.5 0,-36.5 237,-36.5 237,-0.5 0,-0.5\"/>\n<text text-anchor=\"middle\" x=\"13\" y=\"-14.8\" font-family=\"Times,serif\" font-size=\"14.00\">b</text>\n<polyline fill=\"none\" stroke=\"black\" points=\"26,-0.5 26,-36.5 \"/>\n<text text-anchor=\"middle\" x=\"79.5\" y=\"-14.8\" font-family=\"Times,serif\" font-size=\"14.00\">data &#45;4.0000</text>\n<polyline fill=\"none\" stroke=\"black\" points=\"133,-0.5 133,-36.5 \"/>\n<text text-anchor=\"middle\" x=\"185\" y=\"-14.8\" font-family=\"Times,serif\" font-size=\"14.00\">grad 0.0000</text>\n</g>\n<!-- 139905008708016&#45;&gt;139905008710704* -->\n<g id=\"edge2\" class=\"edge\">\n<title>139905008708016&#45;&gt;139905008710704*</title>\n<path fill=\"none\" stroke=\"black\" d=\"M237.23,-36.21C246.6,-37.62 255.52,-38.96 263.52,-40.16\"/>\n<polygon fill=\"black\" stroke=\"black\" points=\"263.06,-43.63 273.47,-41.66 264.1,-36.71 263.06,-43.63\"/>\n</g>\n</g>\n</svg>\n",
      "text/plain": [
       "<graphviz.graphs.Digraph at 0x7f3e2c52bac0>"
      ]
     },
     "execution_count": 57,
     "metadata": {},
     "output_type": "execute_result"
    }
   ],
   "source": [
    "draw_dot(c)"
   ]
  },
  {
   "cell_type": "code",
   "execution_count": 58,
   "metadata": {},
   "outputs": [],
   "source": [
    "a = Value(3.0)\n",
    "h = 0.0001\n",
    "b = Value(4+h)\n",
    "c1 = a + b\n",
    "\n",
    "a = Value(3)\n",
    "b = Value(4)\n",
    "c2 = a+b"
   ]
  },
  {
   "cell_type": "code",
   "execution_count": 59,
   "metadata": {},
   "outputs": [
    {
     "data": {
      "image/svg+xml": "<?xml version=\"1.0\" encoding=\"UTF-8\" standalone=\"no\"?>\n<!DOCTYPE svg PUBLIC \"-//W3C//DTD SVG 1.1//EN\"\n \"http://www.w3.org/Graphics/SVG/1.1/DTD/svg11.dtd\">\n<!-- Generated by graphviz version 2.43.0 (0)\n -->\n<!-- Title: %3 Pages: 1 -->\n<svg width=\"1739pt\" height=\"210pt\"\n viewBox=\"0.00 0.00 1738.69 210.00\" xmlns=\"http://www.w3.org/2000/svg\" xmlns:xlink=\"http://www.w3.org/1999/xlink\">\n<g id=\"graph0\" class=\"graph\" transform=\"scale(1 1) rotate(0) translate(4 206)\">\n<title>%3</title>\n<polygon fill=\"white\" stroke=\"transparent\" points=\"-4,4 -4,-206 1734.69,-206 1734.69,4 -4,4\"/>\n<!-- 139905008704512 -->\n<g id=\"node1\" class=\"node\">\n<title>139905008704512</title>\n<polygon fill=\"none\" stroke=\"black\" points=\"375,-55.5 375,-91.5 620,-91.5 620,-55.5 375,-55.5\"/>\n<text text-anchor=\"middle\" x=\"392\" y=\"-69.8\" font-family=\"Times,serif\" font-size=\"14.00\">a1</text>\n<polyline fill=\"none\" stroke=\"black\" points=\"409,-55.5 409,-91.5 \"/>\n<text text-anchor=\"middle\" x=\"462.5\" y=\"-69.8\" font-family=\"Times,serif\" font-size=\"14.00\">data &#45;6.0000</text>\n<polyline fill=\"none\" stroke=\"black\" points=\"516,-55.5 516,-91.5 \"/>\n<text text-anchor=\"middle\" x=\"568\" y=\"-69.8\" font-family=\"Times,serif\" font-size=\"14.00\">grad 0.0000</text>\n</g>\n<!-- 139905008709312+ -->\n<g id=\"node11\" class=\"node\">\n<title>139905008709312+</title>\n<ellipse fill=\"none\" stroke=\"black\" cx=\"683\" cy=\"-100.5\" rx=\"27\" ry=\"18\"/>\n<text text-anchor=\"middle\" x=\"683\" y=\"-96.8\" font-family=\"Times,serif\" font-size=\"14.00\">+</text>\n</g>\n<!-- 139905008704512&#45;&gt;139905008709312+ -->\n<g id=\"edge12\" class=\"edge\">\n<title>139905008704512&#45;&gt;139905008709312+</title>\n<path fill=\"none\" stroke=\"black\" d=\"M620.13,-91.4C629.55,-92.78 638.5,-94.1 646.52,-95.28\"/>\n<polygon fill=\"black\" stroke=\"black\" points=\"646.08,-98.75 656.48,-96.75 647.1,-91.83 646.08,-98.75\"/>\n</g>\n<!-- 139905008704512* -->\n<g id=\"node2\" class=\"node\">\n<title>139905008704512*</title>\n<ellipse fill=\"none\" stroke=\"black\" cx=\"312\" cy=\"-73.5\" rx=\"27\" ry=\"18\"/>\n<text text-anchor=\"middle\" x=\"312\" y=\"-69.8\" font-family=\"Times,serif\" font-size=\"14.00\">*</text>\n</g>\n<!-- 139905008704512*&#45;&gt;139905008704512 -->\n<g id=\"edge1\" class=\"edge\">\n<title>139905008704512*&#45;&gt;139905008704512</title>\n<path fill=\"none\" stroke=\"black\" d=\"M339.29,-73.5C346.79,-73.5 355.51,-73.5 364.93,-73.5\"/>\n<polygon fill=\"black\" stroke=\"black\" points=\"364.97,-77 374.97,-73.5 364.97,-70 364.97,-77\"/>\n</g>\n<!-- 139905008709216 -->\n<g id=\"node3\" class=\"node\">\n<title>139905008709216</title>\n<polygon fill=\"none\" stroke=\"black\" points=\"1109,-109.5 1109,-145.5 1340,-145.5 1340,-109.5 1109,-109.5\"/>\n<text text-anchor=\"middle\" x=\"1121.5\" y=\"-123.8\" font-family=\"Times,serif\" font-size=\"14.00\">o</text>\n<polyline fill=\"none\" stroke=\"black\" points=\"1134,-109.5 1134,-145.5 \"/>\n<text text-anchor=\"middle\" x=\"1185\" y=\"-123.8\" font-family=\"Times,serif\" font-size=\"14.00\">data 0.8814</text>\n<polyline fill=\"none\" stroke=\"black\" points=\"1236,-109.5 1236,-145.5 \"/>\n<text text-anchor=\"middle\" x=\"1288\" y=\"-123.8\" font-family=\"Times,serif\" font-size=\"14.00\">grad 0.0000</text>\n</g>\n<!-- 139905008701104tanh -->\n<g id=\"node9\" class=\"node\">\n<title>139905008701104tanh</title>\n<ellipse fill=\"none\" stroke=\"black\" cx=\"1407.85\" cy=\"-127.5\" rx=\"31.7\" ry=\"18\"/>\n<text text-anchor=\"middle\" x=\"1407.85\" y=\"-123.8\" font-family=\"Times,serif\" font-size=\"14.00\">tanh</text>\n</g>\n<!-- 139905008709216&#45;&gt;139905008701104tanh -->\n<g id=\"edge6\" class=\"edge\">\n<title>139905008709216&#45;&gt;139905008701104tanh</title>\n<path fill=\"none\" stroke=\"black\" d=\"M1340.09,-127.5C1349.01,-127.5 1357.6,-127.5 1365.47,-127.5\"/>\n<polygon fill=\"black\" stroke=\"black\" points=\"1365.73,-131 1375.73,-127.5 1365.73,-124 1365.73,-131\"/>\n</g>\n<!-- 139905008709216+ -->\n<g id=\"node4\" class=\"node\">\n<title>139905008709216+</title>\n<ellipse fill=\"none\" stroke=\"black\" cx=\"1046\" cy=\"-127.5\" rx=\"27\" ry=\"18\"/>\n<text text-anchor=\"middle\" x=\"1046\" y=\"-123.8\" font-family=\"Times,serif\" font-size=\"14.00\">+</text>\n</g>\n<!-- 139905008709216+&#45;&gt;139905008709216 -->\n<g id=\"edge2\" class=\"edge\">\n<title>139905008709216+&#45;&gt;139905008709216</title>\n<path fill=\"none\" stroke=\"black\" d=\"M1073.04,-127.5C1080.59,-127.5 1089.37,-127.5 1098.82,-127.5\"/>\n<polygon fill=\"black\" stroke=\"black\" points=\"1098.89,-131 1108.89,-127.5 1098.89,-124 1098.89,-131\"/>\n</g>\n<!-- 139905008707200 -->\n<g id=\"node5\" class=\"node\">\n<title>139905008707200</title>\n<polygon fill=\"none\" stroke=\"black\" points=\"377.5,-110.5 377.5,-146.5 617.5,-146.5 617.5,-110.5 377.5,-110.5\"/>\n<text text-anchor=\"middle\" x=\"394.5\" y=\"-124.8\" font-family=\"Times,serif\" font-size=\"14.00\">a2</text>\n<polyline fill=\"none\" stroke=\"black\" points=\"411.5,-110.5 411.5,-146.5 \"/>\n<text text-anchor=\"middle\" x=\"462.5\" y=\"-124.8\" font-family=\"Times,serif\" font-size=\"14.00\">data 0.0000</text>\n<polyline fill=\"none\" stroke=\"black\" points=\"513.5,-110.5 513.5,-146.5 \"/>\n<text text-anchor=\"middle\" x=\"565.5\" y=\"-124.8\" font-family=\"Times,serif\" font-size=\"14.00\">grad 0.0000</text>\n</g>\n<!-- 139905008707200&#45;&gt;139905008709312+ -->\n<g id=\"edge9\" class=\"edge\">\n<title>139905008707200&#45;&gt;139905008709312+</title>\n<path fill=\"none\" stroke=\"black\" d=\"M616.53,-110.49C627.23,-108.86 637.41,-107.3 646.42,-105.93\"/>\n<polygon fill=\"black\" stroke=\"black\" points=\"647.05,-109.37 656.41,-104.4 646,-102.45 647.05,-109.37\"/>\n</g>\n<!-- 139905008707200* -->\n<g id=\"node6\" class=\"node\">\n<title>139905008707200*</title>\n<ellipse fill=\"none\" stroke=\"black\" cx=\"312\" cy=\"-128.5\" rx=\"27\" ry=\"18\"/>\n<text text-anchor=\"middle\" x=\"312\" y=\"-124.8\" font-family=\"Times,serif\" font-size=\"14.00\">*</text>\n</g>\n<!-- 139905008707200*&#45;&gt;139905008707200 -->\n<g id=\"edge3\" class=\"edge\">\n<title>139905008707200*&#45;&gt;139905008707200</title>\n<path fill=\"none\" stroke=\"black\" d=\"M339.29,-128.5C347.4,-128.5 356.94,-128.5 367.23,-128.5\"/>\n<polygon fill=\"black\" stroke=\"black\" points=\"367.32,-132 377.32,-128.5 367.32,-125 367.32,-132\"/>\n</g>\n<!-- 139905008310432 -->\n<g id=\"node7\" class=\"node\">\n<title>139905008310432</title>\n<polygon fill=\"none\" stroke=\"black\" points=\"748.5,-137.5 748.5,-173.5 980.5,-173.5 980.5,-137.5 748.5,-137.5\"/>\n<text text-anchor=\"middle\" x=\"761.5\" y=\"-151.8\" font-family=\"Times,serif\" font-size=\"14.00\">b</text>\n<polyline fill=\"none\" stroke=\"black\" points=\"774.5,-137.5 774.5,-173.5 \"/>\n<text text-anchor=\"middle\" x=\"825.5\" y=\"-151.8\" font-family=\"Times,serif\" font-size=\"14.00\">data 6.8814</text>\n<polyline fill=\"none\" stroke=\"black\" points=\"876.5,-137.5 876.5,-173.5 \"/>\n<text text-anchor=\"middle\" x=\"928.5\" y=\"-151.8\" font-family=\"Times,serif\" font-size=\"14.00\">grad 0.0000</text>\n</g>\n<!-- 139905008310432&#45;&gt;139905008709216+ -->\n<g id=\"edge10\" class=\"edge\">\n<title>139905008310432&#45;&gt;139905008709216+</title>\n<path fill=\"none\" stroke=\"black\" d=\"M980.7,-137.53C990.99,-135.92 1000.8,-134.4 1009.51,-133.04\"/>\n<polygon fill=\"black\" stroke=\"black\" points=\"1010.21,-136.47 1019.55,-131.47 1009.13,-129.55 1010.21,-136.47\"/>\n</g>\n<!-- 139905008701104 -->\n<g id=\"node8\" class=\"node\">\n<title>139905008701104</title>\n<polygon fill=\"none\" stroke=\"black\" points=\"1475.69,-109.5 1475.69,-145.5 1730.69,-145.5 1730.69,-109.5 1475.69,-109.5\"/>\n<text text-anchor=\"middle\" x=\"1500.19\" y=\"-123.8\" font-family=\"Times,serif\" font-size=\"14.00\">tanh</text>\n<polyline fill=\"none\" stroke=\"black\" points=\"1524.69,-109.5 1524.69,-145.5 \"/>\n<text text-anchor=\"middle\" x=\"1575.69\" y=\"-123.8\" font-family=\"Times,serif\" font-size=\"14.00\">data 0.7071</text>\n<polyline fill=\"none\" stroke=\"black\" points=\"1626.69,-109.5 1626.69,-145.5 \"/>\n<text text-anchor=\"middle\" x=\"1678.69\" y=\"-123.8\" font-family=\"Times,serif\" font-size=\"14.00\">grad 0.0000</text>\n</g>\n<!-- 139905008701104tanh&#45;&gt;139905008701104 -->\n<g id=\"edge4\" class=\"edge\">\n<title>139905008701104tanh&#45;&gt;139905008701104</title>\n<path fill=\"none\" stroke=\"black\" d=\"M1439.91,-127.5C1447.52,-127.5 1456.15,-127.5 1465.37,-127.5\"/>\n<polygon fill=\"black\" stroke=\"black\" points=\"1465.59,-131 1475.59,-127.5 1465.59,-124 1465.59,-131\"/>\n</g>\n<!-- 139905008709312 -->\n<g id=\"node10\" class=\"node\">\n<title>139905008709312</title>\n<polygon fill=\"none\" stroke=\"black\" points=\"746,-82.5 746,-118.5 983,-118.5 983,-82.5 746,-82.5\"/>\n<text text-anchor=\"middle\" x=\"759\" y=\"-96.8\" font-family=\"Times,serif\" font-size=\"14.00\">n</text>\n<polyline fill=\"none\" stroke=\"black\" points=\"772,-82.5 772,-118.5 \"/>\n<text text-anchor=\"middle\" x=\"825.5\" y=\"-96.8\" font-family=\"Times,serif\" font-size=\"14.00\">data &#45;6.0000</text>\n<polyline fill=\"none\" stroke=\"black\" points=\"879,-82.5 879,-118.5 \"/>\n<text text-anchor=\"middle\" x=\"931\" y=\"-96.8\" font-family=\"Times,serif\" font-size=\"14.00\">grad 0.0000</text>\n</g>\n<!-- 139905008709312&#45;&gt;139905008709216+ -->\n<g id=\"edge14\" class=\"edge\">\n<title>139905008709312&#45;&gt;139905008709216+</title>\n<path fill=\"none\" stroke=\"black\" d=\"M983.23,-118.21C992.6,-119.62 1001.52,-120.96 1009.52,-122.16\"/>\n<polygon fill=\"black\" stroke=\"black\" points=\"1009.06,-125.63 1019.47,-123.66 1010.1,-118.71 1009.06,-125.63\"/>\n</g>\n<!-- 139905008709312+&#45;&gt;139905008709312 -->\n<g id=\"edge5\" class=\"edge\">\n<title>139905008709312+&#45;&gt;139905008709312</title>\n<path fill=\"none\" stroke=\"black\" d=\"M710.1,-100.5C717.61,-100.5 726.33,-100.5 735.75,-100.5\"/>\n<polygon fill=\"black\" stroke=\"black\" points=\"735.78,-104 745.78,-100.5 735.78,-97 735.78,-104\"/>\n</g>\n<!-- 139905008316720 -->\n<g id=\"node12\" class=\"node\">\n<title>139905008316720</title>\n<polygon fill=\"none\" stroke=\"black\" points=\"4.5,-55.5 4.5,-91.5 244.5,-91.5 244.5,-55.5 4.5,-55.5\"/>\n<text text-anchor=\"middle\" x=\"21.5\" y=\"-69.8\" font-family=\"Times,serif\" font-size=\"14.00\">x1</text>\n<polyline fill=\"none\" stroke=\"black\" points=\"38.5,-55.5 38.5,-91.5 \"/>\n<text text-anchor=\"middle\" x=\"89.5\" y=\"-69.8\" font-family=\"Times,serif\" font-size=\"14.00\">data 2.0000</text>\n<polyline fill=\"none\" stroke=\"black\" points=\"140.5,-55.5 140.5,-91.5 \"/>\n<text text-anchor=\"middle\" x=\"192.5\" y=\"-69.8\" font-family=\"Times,serif\" font-size=\"14.00\">grad 0.0000</text>\n</g>\n<!-- 139905008316720&#45;&gt;139905008704512* -->\n<g id=\"edge13\" class=\"edge\">\n<title>139905008316720&#45;&gt;139905008704512*</title>\n<path fill=\"none\" stroke=\"black\" d=\"M244.55,-73.5C255.31,-73.5 265.54,-73.5 274.62,-73.5\"/>\n<polygon fill=\"black\" stroke=\"black\" points=\"274.7,-77 284.7,-73.5 274.7,-70 274.7,-77\"/>\n</g>\n<!-- 139905008706864 -->\n<g id=\"node13\" class=\"node\">\n<title>139905008706864</title>\n<polygon fill=\"none\" stroke=\"black\" points=\"2.5,-165.5 2.5,-201.5 246.5,-201.5 246.5,-165.5 2.5,-165.5\"/>\n<text text-anchor=\"middle\" x=\"21.5\" y=\"-179.8\" font-family=\"Times,serif\" font-size=\"14.00\">w2</text>\n<polyline fill=\"none\" stroke=\"black\" points=\"40.5,-165.5 40.5,-201.5 \"/>\n<text text-anchor=\"middle\" x=\"91.5\" y=\"-179.8\" font-family=\"Times,serif\" font-size=\"14.00\">data 1.0000</text>\n<polyline fill=\"none\" stroke=\"black\" points=\"142.5,-165.5 142.5,-201.5 \"/>\n<text text-anchor=\"middle\" x=\"194.5\" y=\"-179.8\" font-family=\"Times,serif\" font-size=\"14.00\">grad 0.0000</text>\n</g>\n<!-- 139905008706864&#45;&gt;139905008707200* -->\n<g id=\"edge11\" class=\"edge\">\n<title>139905008706864&#45;&gt;139905008707200*</title>\n<path fill=\"none\" stroke=\"black\" d=\"M218.13,-165.46C228.63,-162.77 239.1,-159.78 249,-156.5 259.71,-152.96 271.05,-148.16 281.07,-143.54\"/>\n<polygon fill=\"black\" stroke=\"black\" points=\"282.67,-146.66 290.2,-139.21 279.67,-140.33 282.67,-146.66\"/>\n</g>\n<!-- 139905008318304 -->\n<g id=\"node14\" class=\"node\">\n<title>139905008318304</title>\n<polygon fill=\"none\" stroke=\"black\" points=\"4.5,-110.5 4.5,-146.5 244.5,-146.5 244.5,-110.5 4.5,-110.5\"/>\n<text text-anchor=\"middle\" x=\"21.5\" y=\"-124.8\" font-family=\"Times,serif\" font-size=\"14.00\">x2</text>\n<polyline fill=\"none\" stroke=\"black\" points=\"38.5,-110.5 38.5,-146.5 \"/>\n<text text-anchor=\"middle\" x=\"89.5\" y=\"-124.8\" font-family=\"Times,serif\" font-size=\"14.00\">data 0.0000</text>\n<polyline fill=\"none\" stroke=\"black\" points=\"140.5,-110.5 140.5,-146.5 \"/>\n<text text-anchor=\"middle\" x=\"192.5\" y=\"-124.8\" font-family=\"Times,serif\" font-size=\"14.00\">grad 0.0000</text>\n</g>\n<!-- 139905008318304&#45;&gt;139905008707200* -->\n<g id=\"edge8\" class=\"edge\">\n<title>139905008318304&#45;&gt;139905008707200*</title>\n<path fill=\"none\" stroke=\"black\" d=\"M244.55,-128.5C255.31,-128.5 265.54,-128.5 274.62,-128.5\"/>\n<polygon fill=\"black\" stroke=\"black\" points=\"274.7,-132 284.7,-128.5 274.7,-125 274.7,-132\"/>\n</g>\n<!-- 139905008307648 -->\n<g id=\"node15\" class=\"node\">\n<title>139905008307648</title>\n<polygon fill=\"none\" stroke=\"black\" points=\"0,-0.5 0,-36.5 249,-36.5 249,-0.5 0,-0.5\"/>\n<text text-anchor=\"middle\" x=\"19\" y=\"-14.8\" font-family=\"Times,serif\" font-size=\"14.00\">w1</text>\n<polyline fill=\"none\" stroke=\"black\" points=\"38,-0.5 38,-36.5 \"/>\n<text text-anchor=\"middle\" x=\"91.5\" y=\"-14.8\" font-family=\"Times,serif\" font-size=\"14.00\">data &#45;3.0000</text>\n<polyline fill=\"none\" stroke=\"black\" points=\"145,-0.5 145,-36.5 \"/>\n<text text-anchor=\"middle\" x=\"197\" y=\"-14.8\" font-family=\"Times,serif\" font-size=\"14.00\">grad 0.0000</text>\n</g>\n<!-- 139905008307648&#45;&gt;139905008704512* -->\n<g id=\"edge7\" class=\"edge\">\n<title>139905008307648&#45;&gt;139905008704512*</title>\n<path fill=\"none\" stroke=\"black\" d=\"M214.42,-36.55C226.15,-39.54 237.93,-42.87 249,-46.5 259.46,-49.93 270.57,-54.47 280.46,-58.84\"/>\n<polygon fill=\"black\" stroke=\"black\" points=\"279.31,-62.17 289.87,-63.12 282.21,-55.79 279.31,-62.17\"/>\n</g>\n</g>\n</svg>\n",
      "text/plain": [
       "<graphviz.graphs.Digraph at 0x7f3e2c58b9d0>"
      ]
     },
     "execution_count": 59,
     "metadata": {},
     "output_type": "execute_result"
    }
   ],
   "source": [
    "b = Value(6.8814, label='b')\n",
    "w1 = Value(-3, label = 'w1')\n",
    "x1 = Value(2, label = 'x1')\n",
    "a1 = (w1*x1)\n",
    "a1.label = 'a1'\n",
    "w2 = Value(1, label = 'w2')\n",
    "x2 = Value(0, label = 'x2')\n",
    "a2 =  (w2*x2)\n",
    "a2.label='a2'\n",
    "n = a1 + a2\n",
    "n.label='n'\n",
    "o = n + b\n",
    "o.label='o'\n",
    "r = o.tanh()\n",
    "r.label='tanh'\n",
    "# c.grad = 1.0\n",
    "draw_dot(r)"
   ]
  },
  {
   "cell_type": "markdown",
   "metadata": {},
   "source": [
    "Manual Backpropagation"
   ]
  },
  {
   "cell_type": "code",
   "execution_count": 28,
   "metadata": {},
   "outputs": [],
   "source": [
    "r.grad = 1.0\n",
    "r._backward()"
   ]
  },
  {
   "cell_type": "code",
   "execution_count": 29,
   "metadata": {},
   "outputs": [],
   "source": [
    "o._backward()\n",
    "b._backward()\n",
    "n._backward()\n",
    "a2._backward()\n",
    "x2._backward()\n",
    "w2._backward()\n",
    "a1._backward()\n",
    "x1._backward()\n",
    "w1._backward()"
   ]
  },
  {
   "cell_type": "code",
   "execution_count": 30,
   "metadata": {},
   "outputs": [
    {
     "data": {
      "image/svg+xml": "<?xml version=\"1.0\" encoding=\"UTF-8\" standalone=\"no\"?>\n<!DOCTYPE svg PUBLIC \"-//W3C//DTD SVG 1.1//EN\"\n \"http://www.w3.org/Graphics/SVG/1.1/DTD/svg11.dtd\">\n<!-- Generated by graphviz version 2.43.0 (0)\n -->\n<!-- Title: %3 Pages: 1 -->\n<svg width=\"1567pt\" height=\"210pt\"\n viewBox=\"0.00 0.00 1566.69 210.00\" xmlns=\"http://www.w3.org/2000/svg\" xmlns:xlink=\"http://www.w3.org/1999/xlink\">\n<g id=\"graph0\" class=\"graph\" transform=\"scale(1 1) rotate(0) translate(4 206)\">\n<title>%3</title>\n<polygon fill=\"white\" stroke=\"transparent\" points=\"-4,4 -4,-206 1562.69,-206 1562.69,4 -4,4\"/>\n<!-- 139905008677888 -->\n<g id=\"node1\" class=\"node\">\n<title>139905008677888</title>\n<polygon fill=\"none\" stroke=\"black\" points=\"337,-55.5 337,-91.5 548,-91.5 548,-55.5 337,-55.5\"/>\n<text text-anchor=\"middle\" x=\"390.5\" y=\"-69.8\" font-family=\"Times,serif\" font-size=\"14.00\">data &#45;6.0000</text>\n<polyline fill=\"none\" stroke=\"black\" points=\"444,-55.5 444,-91.5 \"/>\n<text text-anchor=\"middle\" x=\"496\" y=\"-69.8\" font-family=\"Times,serif\" font-size=\"14.00\">grad 0.5000</text>\n</g>\n<!-- 139905008677504+ -->\n<g id=\"node5\" class=\"node\">\n<title>139905008677504+</title>\n<ellipse fill=\"none\" stroke=\"black\" cx=\"611\" cy=\"-100.5\" rx=\"27\" ry=\"18\"/>\n<text text-anchor=\"middle\" x=\"611\" y=\"-96.8\" font-family=\"Times,serif\" font-size=\"14.00\">+</text>\n</g>\n<!-- 139905008677888&#45;&gt;139905008677504+ -->\n<g id=\"edge13\" class=\"edge\">\n<title>139905008677888&#45;&gt;139905008677504+</title>\n<path fill=\"none\" stroke=\"black\" d=\"M548,-90.45C557.36,-91.96 566.33,-93.42 574.41,-94.73\"/>\n<polygon fill=\"black\" stroke=\"black\" points=\"574.03,-98.21 584.46,-96.36 575.15,-91.3 574.03,-98.21\"/>\n</g>\n<!-- 139905008677888* -->\n<g id=\"node2\" class=\"node\">\n<title>139905008677888*</title>\n<ellipse fill=\"none\" stroke=\"black\" cx=\"274\" cy=\"-73.5\" rx=\"27\" ry=\"18\"/>\n<text text-anchor=\"middle\" x=\"274\" y=\"-69.8\" font-family=\"Times,serif\" font-size=\"14.00\">*</text>\n</g>\n<!-- 139905008677888*&#45;&gt;139905008677888 -->\n<g id=\"edge1\" class=\"edge\">\n<title>139905008677888*&#45;&gt;139905008677888</title>\n<path fill=\"none\" stroke=\"black\" d=\"M301.02,-73.5C308.62,-73.5 317.46,-73.5 326.93,-73.5\"/>\n<polygon fill=\"black\" stroke=\"black\" points=\"327,-77 337,-73.5 327,-70 327,-77\"/>\n</g>\n<!-- 139905008675872 -->\n<g id=\"node3\" class=\"node\">\n<title>139905008675872</title>\n<polygon fill=\"none\" stroke=\"black\" points=\"0,-55.5 0,-91.5 211,-91.5 211,-55.5 0,-55.5\"/>\n<text text-anchor=\"middle\" x=\"53.5\" y=\"-69.8\" font-family=\"Times,serif\" font-size=\"14.00\">data &#45;3.0000</text>\n<polyline fill=\"none\" stroke=\"black\" points=\"107,-55.5 107,-91.5 \"/>\n<text text-anchor=\"middle\" x=\"159\" y=\"-69.8\" font-family=\"Times,serif\" font-size=\"14.00\">grad 1.0000</text>\n</g>\n<!-- 139905008675872&#45;&gt;139905008677888* -->\n<g id=\"edge14\" class=\"edge\">\n<title>139905008675872&#45;&gt;139905008677888*</title>\n<path fill=\"none\" stroke=\"black\" d=\"M211,-73.5C220.08,-73.5 228.79,-73.5 236.67,-73.5\"/>\n<polygon fill=\"black\" stroke=\"black\" points=\"236.85,-77 246.85,-73.5 236.85,-70 236.85,-77\"/>\n</g>\n<!-- 139905008677504 -->\n<g id=\"node4\" class=\"node\">\n<title>139905008677504</title>\n<polygon fill=\"none\" stroke=\"black\" points=\"674,-82.5 674,-118.5 885,-118.5 885,-82.5 674,-82.5\"/>\n<text text-anchor=\"middle\" x=\"727.5\" y=\"-96.8\" font-family=\"Times,serif\" font-size=\"14.00\">data &#45;6.0000</text>\n<polyline fill=\"none\" stroke=\"black\" points=\"781,-82.5 781,-118.5 \"/>\n<text text-anchor=\"middle\" x=\"833\" y=\"-96.8\" font-family=\"Times,serif\" font-size=\"14.00\">grad 0.5000</text>\n</g>\n<!-- 139905008677696+ -->\n<g id=\"node11\" class=\"node\">\n<title>139905008677696+</title>\n<ellipse fill=\"none\" stroke=\"black\" cx=\"948\" cy=\"-127.5\" rx=\"27\" ry=\"18\"/>\n<text text-anchor=\"middle\" x=\"948\" y=\"-123.8\" font-family=\"Times,serif\" font-size=\"14.00\">+</text>\n</g>\n<!-- 139905008677504&#45;&gt;139905008677696+ -->\n<g id=\"edge6\" class=\"edge\">\n<title>139905008677504&#45;&gt;139905008677696+</title>\n<path fill=\"none\" stroke=\"black\" d=\"M885,-117.45C894.36,-118.96 903.33,-120.42 911.41,-121.73\"/>\n<polygon fill=\"black\" stroke=\"black\" points=\"911.03,-125.21 921.46,-123.36 912.15,-118.3 911.03,-125.21\"/>\n</g>\n<!-- 139905008677504+&#45;&gt;139905008677504 -->\n<g id=\"edge2\" class=\"edge\">\n<title>139905008677504+&#45;&gt;139905008677504</title>\n<path fill=\"none\" stroke=\"black\" d=\"M638.02,-100.5C645.62,-100.5 654.46,-100.5 663.93,-100.5\"/>\n<polygon fill=\"black\" stroke=\"black\" points=\"664,-104 674,-100.5 664,-97 664,-104\"/>\n</g>\n<!-- 139905008680672 -->\n<g id=\"node6\" class=\"node\">\n<title>139905008680672</title>\n<polygon fill=\"none\" stroke=\"black\" points=\"0.5,-0.5 0.5,-36.5 210.5,-36.5 210.5,-0.5 0.5,-0.5\"/>\n<text text-anchor=\"middle\" x=\"51.5\" y=\"-14.8\" font-family=\"Times,serif\" font-size=\"14.00\">data 2.0000</text>\n<polyline fill=\"none\" stroke=\"black\" points=\"102.5,-0.5 102.5,-36.5 \"/>\n<text text-anchor=\"middle\" x=\"156.5\" y=\"-14.8\" font-family=\"Times,serif\" font-size=\"14.00\">grad &#45;1.4999</text>\n</g>\n<!-- 139905008680672&#45;&gt;139905008677888* -->\n<g id=\"edge12\" class=\"edge\">\n<title>139905008680672&#45;&gt;139905008677888*</title>\n<path fill=\"none\" stroke=\"black\" d=\"M179.44,-36.55C190.11,-39.62 200.89,-42.97 211,-46.5 221.31,-50.1 232.31,-54.65 242.14,-58.98\"/>\n<polygon fill=\"black\" stroke=\"black\" points=\"240.95,-62.29 251.51,-63.2 243.83,-55.9 240.95,-62.29\"/>\n</g>\n<!-- 139905008679376 -->\n<g id=\"node7\" class=\"node\">\n<title>139905008679376</title>\n<polygon fill=\"none\" stroke=\"black\" points=\"676.5,-137.5 676.5,-173.5 882.5,-173.5 882.5,-137.5 676.5,-137.5\"/>\n<text text-anchor=\"middle\" x=\"727.5\" y=\"-151.8\" font-family=\"Times,serif\" font-size=\"14.00\">data 6.8814</text>\n<polyline fill=\"none\" stroke=\"black\" points=\"778.5,-137.5 778.5,-173.5 \"/>\n<text text-anchor=\"middle\" x=\"830.5\" y=\"-151.8\" font-family=\"Times,serif\" font-size=\"14.00\">grad 0.5000</text>\n</g>\n<!-- 139905008679376&#45;&gt;139905008677696+ -->\n<g id=\"edge7\" class=\"edge\">\n<title>139905008679376&#45;&gt;139905008677696+</title>\n<path fill=\"none\" stroke=\"black\" d=\"M882.63,-138.33C892.87,-136.6 902.71,-134.95 911.48,-133.47\"/>\n<polygon fill=\"black\" stroke=\"black\" points=\"912.32,-136.88 921.6,-131.77 911.16,-129.98 912.32,-136.88\"/>\n</g>\n<!-- 139905008670496 -->\n<g id=\"node8\" class=\"node\">\n<title>139905008670496</title>\n<polygon fill=\"none\" stroke=\"black\" points=\"1352.69,-109.5 1352.69,-145.5 1558.69,-145.5 1558.69,-109.5 1352.69,-109.5\"/>\n<text text-anchor=\"middle\" x=\"1403.69\" y=\"-123.8\" font-family=\"Times,serif\" font-size=\"14.00\">data 0.7071</text>\n<polyline fill=\"none\" stroke=\"black\" points=\"1454.69,-109.5 1454.69,-145.5 \"/>\n<text text-anchor=\"middle\" x=\"1506.69\" y=\"-123.8\" font-family=\"Times,serif\" font-size=\"14.00\">grad 1.0000</text>\n</g>\n<!-- 139905008670496tanh -->\n<g id=\"node9\" class=\"node\">\n<title>139905008670496tanh</title>\n<ellipse fill=\"none\" stroke=\"black\" cx=\"1284.85\" cy=\"-127.5\" rx=\"31.7\" ry=\"18\"/>\n<text text-anchor=\"middle\" x=\"1284.85\" y=\"-123.8\" font-family=\"Times,serif\" font-size=\"14.00\">tanh</text>\n</g>\n<!-- 139905008670496tanh&#45;&gt;139905008670496 -->\n<g id=\"edge3\" class=\"edge\">\n<title>139905008670496tanh&#45;&gt;139905008670496</title>\n<path fill=\"none\" stroke=\"black\" d=\"M1316.82,-127.5C1324.51,-127.5 1333.2,-127.5 1342.4,-127.5\"/>\n<polygon fill=\"black\" stroke=\"black\" points=\"1342.54,-131 1352.54,-127.5 1342.54,-124 1342.54,-131\"/>\n</g>\n<!-- 139905008677696 -->\n<g id=\"node10\" class=\"node\">\n<title>139905008677696</title>\n<polygon fill=\"none\" stroke=\"black\" points=\"1011,-109.5 1011,-145.5 1217,-145.5 1217,-109.5 1011,-109.5\"/>\n<text text-anchor=\"middle\" x=\"1062\" y=\"-123.8\" font-family=\"Times,serif\" font-size=\"14.00\">data 0.8814</text>\n<polyline fill=\"none\" stroke=\"black\" points=\"1113,-109.5 1113,-145.5 \"/>\n<text text-anchor=\"middle\" x=\"1165\" y=\"-123.8\" font-family=\"Times,serif\" font-size=\"14.00\">grad 0.5000</text>\n</g>\n<!-- 139905008677696&#45;&gt;139905008670496tanh -->\n<g id=\"edge8\" class=\"edge\">\n<title>139905008677696&#45;&gt;139905008670496tanh</title>\n<path fill=\"none\" stroke=\"black\" d=\"M1217.11,-127.5C1226.1,-127.5 1234.8,-127.5 1242.79,-127.5\"/>\n<polygon fill=\"black\" stroke=\"black\" points=\"1242.85,-131 1252.85,-127.5 1242.85,-124 1242.85,-131\"/>\n</g>\n<!-- 139905008677696+&#45;&gt;139905008677696 -->\n<g id=\"edge4\" class=\"edge\">\n<title>139905008677696+&#45;&gt;139905008677696</title>\n<path fill=\"none\" stroke=\"black\" d=\"M975.35,-127.5C982.8,-127.5 991.4,-127.5 1000.61,-127.5\"/>\n<polygon fill=\"black\" stroke=\"black\" points=\"1000.8,-131 1010.8,-127.5 1000.8,-124 1000.8,-131\"/>\n</g>\n<!-- 139905008677216 -->\n<g id=\"node12\" class=\"node\">\n<title>139905008677216</title>\n<polygon fill=\"none\" stroke=\"black\" points=\"2.5,-165.5 2.5,-201.5 208.5,-201.5 208.5,-165.5 2.5,-165.5\"/>\n<text text-anchor=\"middle\" x=\"53.5\" y=\"-179.8\" font-family=\"Times,serif\" font-size=\"14.00\">data 1.0000</text>\n<polyline fill=\"none\" stroke=\"black\" points=\"104.5,-165.5 104.5,-201.5 \"/>\n<text text-anchor=\"middle\" x=\"156.5\" y=\"-179.8\" font-family=\"Times,serif\" font-size=\"14.00\">grad 0.0000</text>\n</g>\n<!-- 139905008674720* -->\n<g id=\"node14\" class=\"node\">\n<title>139905008674720*</title>\n<ellipse fill=\"none\" stroke=\"black\" cx=\"274\" cy=\"-128.5\" rx=\"27\" ry=\"18\"/>\n<text text-anchor=\"middle\" x=\"274\" y=\"-124.8\" font-family=\"Times,serif\" font-size=\"14.00\">*</text>\n</g>\n<!-- 139905008677216&#45;&gt;139905008674720* -->\n<g id=\"edge9\" class=\"edge\">\n<title>139905008677216&#45;&gt;139905008674720*</title>\n<path fill=\"none\" stroke=\"black\" d=\"M182.59,-165.47C192.23,-162.71 201.9,-159.7 211,-156.5 221.55,-152.78 232.79,-147.99 242.75,-143.41\"/>\n<polygon fill=\"black\" stroke=\"black\" points=\"244.28,-146.56 251.85,-139.14 241.31,-140.22 244.28,-146.56\"/>\n</g>\n<!-- 139905008674720 -->\n<g id=\"node13\" class=\"node\">\n<title>139905008674720</title>\n<polygon fill=\"none\" stroke=\"black\" points=\"339.5,-110.5 339.5,-146.5 545.5,-146.5 545.5,-110.5 339.5,-110.5\"/>\n<text text-anchor=\"middle\" x=\"390.5\" y=\"-124.8\" font-family=\"Times,serif\" font-size=\"14.00\">data 0.0000</text>\n<polyline fill=\"none\" stroke=\"black\" points=\"441.5,-110.5 441.5,-146.5 \"/>\n<text text-anchor=\"middle\" x=\"493.5\" y=\"-124.8\" font-family=\"Times,serif\" font-size=\"14.00\">grad 0.5000</text>\n</g>\n<!-- 139905008674720&#45;&gt;139905008677504+ -->\n<g id=\"edge11\" class=\"edge\">\n<title>139905008674720&#45;&gt;139905008677504+</title>\n<path fill=\"none\" stroke=\"black\" d=\"M545.63,-111.33C555.87,-109.6 565.71,-107.95 574.48,-106.47\"/>\n<polygon fill=\"black\" stroke=\"black\" points=\"575.32,-109.88 584.6,-104.77 574.16,-102.98 575.32,-109.88\"/>\n</g>\n<!-- 139905008674720*&#45;&gt;139905008674720 -->\n<g id=\"edge5\" class=\"edge\">\n<title>139905008674720*&#45;&gt;139905008674720</title>\n<path fill=\"none\" stroke=\"black\" d=\"M301.02,-128.5C309.26,-128.5 318.96,-128.5 329.35,-128.5\"/>\n<polygon fill=\"black\" stroke=\"black\" points=\"329.49,-132 339.49,-128.5 329.49,-125 329.49,-132\"/>\n</g>\n<!-- 139905008677840 -->\n<g id=\"node15\" class=\"node\">\n<title>139905008677840</title>\n<polygon fill=\"none\" stroke=\"black\" points=\"2.5,-110.5 2.5,-146.5 208.5,-146.5 208.5,-110.5 2.5,-110.5\"/>\n<text text-anchor=\"middle\" x=\"53.5\" y=\"-124.8\" font-family=\"Times,serif\" font-size=\"14.00\">data 0.0000</text>\n<polyline fill=\"none\" stroke=\"black\" points=\"104.5,-110.5 104.5,-146.5 \"/>\n<text text-anchor=\"middle\" x=\"156.5\" y=\"-124.8\" font-family=\"Times,serif\" font-size=\"14.00\">grad 0.5000</text>\n</g>\n<!-- 139905008677840&#45;&gt;139905008674720* -->\n<g id=\"edge10\" class=\"edge\">\n<title>139905008677840&#45;&gt;139905008674720*</title>\n<path fill=\"none\" stroke=\"black\" d=\"M208.63,-128.5C218.68,-128.5 228.34,-128.5 236.99,-128.5\"/>\n<polygon fill=\"black\" stroke=\"black\" points=\"236.99,-132 246.99,-128.5 236.99,-125 236.99,-132\"/>\n</g>\n</g>\n</svg>\n",
      "text/plain": [
       "<graphviz.graphs.Digraph at 0x7f3e2c582710>"
      ]
     },
     "execution_count": 30,
     "metadata": {},
     "output_type": "execute_result"
    }
   ],
   "source": [
    "draw_dot(r)"
   ]
  },
  {
   "cell_type": "code",
   "execution_count": 137,
   "metadata": {},
   "outputs": [
    {
     "data": {
      "image/svg+xml": "<?xml version=\"1.0\" encoding=\"UTF-8\" standalone=\"no\"?>\n<!DOCTYPE svg PUBLIC \"-//W3C//DTD SVG 1.1//EN\"\n \"http://www.w3.org/Graphics/SVG/1.1/DTD/svg11.dtd\">\n<!-- Generated by graphviz version 2.43.0 (0)\n -->\n<!-- Title: %3 Pages: 1 -->\n<svg width=\"1739pt\" height=\"210pt\"\n viewBox=\"0.00 0.00 1738.69 210.00\" xmlns=\"http://www.w3.org/2000/svg\" xmlns:xlink=\"http://www.w3.org/1999/xlink\">\n<g id=\"graph0\" class=\"graph\" transform=\"scale(1 1) rotate(0) translate(4 206)\">\n<title>%3</title>\n<polygon fill=\"white\" stroke=\"transparent\" points=\"-4,4 -4,-206 1734.69,-206 1734.69,4 -4,4\"/>\n<!-- 139904640982976 -->\n<g id=\"node1\" class=\"node\">\n<title>139904640982976</title>\n<polygon fill=\"none\" stroke=\"black\" points=\"377.5,-55.5 377.5,-91.5 617.5,-91.5 617.5,-55.5 377.5,-55.5\"/>\n<text text-anchor=\"middle\" x=\"394.5\" y=\"-69.8\" font-family=\"Times,serif\" font-size=\"14.00\">a2</text>\n<polyline fill=\"none\" stroke=\"black\" points=\"411.5,-55.5 411.5,-91.5 \"/>\n<text text-anchor=\"middle\" x=\"462.5\" y=\"-69.8\" font-family=\"Times,serif\" font-size=\"14.00\">data 0.0000</text>\n<polyline fill=\"none\" stroke=\"black\" points=\"513.5,-55.5 513.5,-91.5 \"/>\n<text text-anchor=\"middle\" x=\"565.5\" y=\"-69.8\" font-family=\"Times,serif\" font-size=\"14.00\">grad 0.0000</text>\n</g>\n<!-- 139904640983024+ -->\n<g id=\"node15\" class=\"node\">\n<title>139904640983024+</title>\n<ellipse fill=\"none\" stroke=\"black\" cx=\"683\" cy=\"-100.5\" rx=\"27\" ry=\"18\"/>\n<text text-anchor=\"middle\" x=\"683\" y=\"-96.8\" font-family=\"Times,serif\" font-size=\"14.00\">+</text>\n</g>\n<!-- 139904640982976&#45;&gt;139904640983024+ -->\n<g id=\"edge9\" class=\"edge\">\n<title>139904640982976&#45;&gt;139904640983024+</title>\n<path fill=\"none\" stroke=\"black\" d=\"M617.56,-91.02C627.91,-92.54 637.75,-93.99 646.49,-95.27\"/>\n<polygon fill=\"black\" stroke=\"black\" points=\"646.15,-98.76 656.55,-96.76 647.17,-91.84 646.15,-98.76\"/>\n</g>\n<!-- 139904640982976* -->\n<g id=\"node2\" class=\"node\">\n<title>139904640982976*</title>\n<ellipse fill=\"none\" stroke=\"black\" cx=\"312\" cy=\"-73.5\" rx=\"27\" ry=\"18\"/>\n<text text-anchor=\"middle\" x=\"312\" y=\"-69.8\" font-family=\"Times,serif\" font-size=\"14.00\">*</text>\n</g>\n<!-- 139904640982976*&#45;&gt;139904640982976 -->\n<g id=\"edge1\" class=\"edge\">\n<title>139904640982976*&#45;&gt;139904640982976</title>\n<path fill=\"none\" stroke=\"black\" d=\"M339.29,-73.5C347.4,-73.5 356.94,-73.5 367.23,-73.5\"/>\n<polygon fill=\"black\" stroke=\"black\" points=\"367.32,-77 377.32,-73.5 367.32,-70 367.32,-77\"/>\n</g>\n<!-- 139904640982736 -->\n<g id=\"node3\" class=\"node\">\n<title>139904640982736</title>\n<polygon fill=\"none\" stroke=\"black\" points=\"2.5,-55.5 2.5,-91.5 246.5,-91.5 246.5,-55.5 2.5,-55.5\"/>\n<text text-anchor=\"middle\" x=\"21.5\" y=\"-69.8\" font-family=\"Times,serif\" font-size=\"14.00\">w2</text>\n<polyline fill=\"none\" stroke=\"black\" points=\"40.5,-55.5 40.5,-91.5 \"/>\n<text text-anchor=\"middle\" x=\"91.5\" y=\"-69.8\" font-family=\"Times,serif\" font-size=\"14.00\">data 1.0000</text>\n<polyline fill=\"none\" stroke=\"black\" points=\"142.5,-55.5 142.5,-91.5 \"/>\n<text text-anchor=\"middle\" x=\"194.5\" y=\"-69.8\" font-family=\"Times,serif\" font-size=\"14.00\">grad 0.0000</text>\n</g>\n<!-- 139904640982736&#45;&gt;139904640982976* -->\n<g id=\"edge8\" class=\"edge\">\n<title>139904640982736&#45;&gt;139904640982976*</title>\n<path fill=\"none\" stroke=\"black\" d=\"M246.64,-73.5C256.7,-73.5 266.26,-73.5 274.79,-73.5\"/>\n<polygon fill=\"black\" stroke=\"black\" points=\"275,-77 285,-73.5 275,-70 275,-77\"/>\n</g>\n<!-- 139904640984800 -->\n<g id=\"node4\" class=\"node\">\n<title>139904640984800</title>\n<polygon fill=\"none\" stroke=\"black\" points=\"4.5,-0.5 4.5,-36.5 244.5,-36.5 244.5,-0.5 4.5,-0.5\"/>\n<text text-anchor=\"middle\" x=\"21.5\" y=\"-14.8\" font-family=\"Times,serif\" font-size=\"14.00\">x2</text>\n<polyline fill=\"none\" stroke=\"black\" points=\"38.5,-0.5 38.5,-36.5 \"/>\n<text text-anchor=\"middle\" x=\"89.5\" y=\"-14.8\" font-family=\"Times,serif\" font-size=\"14.00\">data 0.0000</text>\n<polyline fill=\"none\" stroke=\"black\" points=\"140.5,-0.5 140.5,-36.5 \"/>\n<text text-anchor=\"middle\" x=\"192.5\" y=\"-14.8\" font-family=\"Times,serif\" font-size=\"14.00\">grad 0.0000</text>\n</g>\n<!-- 139904640984800&#45;&gt;139904640982976* -->\n<g id=\"edge11\" class=\"edge\">\n<title>139904640984800&#45;&gt;139904640982976*</title>\n<path fill=\"none\" stroke=\"black\" d=\"M214.42,-36.55C226.15,-39.54 237.93,-42.87 249,-46.5 259.46,-49.93 270.57,-54.47 280.46,-58.84\"/>\n<polygon fill=\"black\" stroke=\"black\" points=\"279.31,-62.17 289.87,-63.12 282.21,-55.79 279.31,-62.17\"/>\n</g>\n<!-- 139904640983792 -->\n<g id=\"node5\" class=\"node\">\n<title>139904640983792</title>\n<polygon fill=\"none\" stroke=\"black\" points=\"1109,-109.5 1109,-145.5 1340,-145.5 1340,-109.5 1109,-109.5\"/>\n<text text-anchor=\"middle\" x=\"1121.5\" y=\"-123.8\" font-family=\"Times,serif\" font-size=\"14.00\">o</text>\n<polyline fill=\"none\" stroke=\"black\" points=\"1134,-109.5 1134,-145.5 \"/>\n<text text-anchor=\"middle\" x=\"1185\" y=\"-123.8\" font-family=\"Times,serif\" font-size=\"14.00\">data 0.8814</text>\n<polyline fill=\"none\" stroke=\"black\" points=\"1236,-109.5 1236,-145.5 \"/>\n<text text-anchor=\"middle\" x=\"1288\" y=\"-123.8\" font-family=\"Times,serif\" font-size=\"14.00\">grad 0.0000</text>\n</g>\n<!-- 139904640981440tanh -->\n<g id=\"node13\" class=\"node\">\n<title>139904640981440tanh</title>\n<ellipse fill=\"none\" stroke=\"black\" cx=\"1407.85\" cy=\"-127.5\" rx=\"31.7\" ry=\"18\"/>\n<text text-anchor=\"middle\" x=\"1407.85\" y=\"-123.8\" font-family=\"Times,serif\" font-size=\"14.00\">tanh</text>\n</g>\n<!-- 139904640983792&#45;&gt;139904640981440tanh -->\n<g id=\"edge6\" class=\"edge\">\n<title>139904640983792&#45;&gt;139904640981440tanh</title>\n<path fill=\"none\" stroke=\"black\" d=\"M1340.09,-127.5C1349.01,-127.5 1357.6,-127.5 1365.47,-127.5\"/>\n<polygon fill=\"black\" stroke=\"black\" points=\"1365.73,-131 1375.73,-127.5 1365.73,-124 1365.73,-131\"/>\n</g>\n<!-- 139904640983792+ -->\n<g id=\"node6\" class=\"node\">\n<title>139904640983792+</title>\n<ellipse fill=\"none\" stroke=\"black\" cx=\"1046\" cy=\"-127.5\" rx=\"27\" ry=\"18\"/>\n<text text-anchor=\"middle\" x=\"1046\" y=\"-123.8\" font-family=\"Times,serif\" font-size=\"14.00\">+</text>\n</g>\n<!-- 139904640983792+&#45;&gt;139904640983792 -->\n<g id=\"edge2\" class=\"edge\">\n<title>139904640983792+&#45;&gt;139904640983792</title>\n<path fill=\"none\" stroke=\"black\" d=\"M1073.04,-127.5C1080.59,-127.5 1089.37,-127.5 1098.82,-127.5\"/>\n<polygon fill=\"black\" stroke=\"black\" points=\"1098.89,-131 1108.89,-127.5 1098.89,-124 1098.89,-131\"/>\n</g>\n<!-- 139904640979184 -->\n<g id=\"node7\" class=\"node\">\n<title>139904640979184</title>\n<polygon fill=\"none\" stroke=\"black\" points=\"4.5,-165.5 4.5,-201.5 244.5,-201.5 244.5,-165.5 4.5,-165.5\"/>\n<text text-anchor=\"middle\" x=\"21.5\" y=\"-179.8\" font-family=\"Times,serif\" font-size=\"14.00\">x1</text>\n<polyline fill=\"none\" stroke=\"black\" points=\"38.5,-165.5 38.5,-201.5 \"/>\n<text text-anchor=\"middle\" x=\"89.5\" y=\"-179.8\" font-family=\"Times,serif\" font-size=\"14.00\">data 2.0000</text>\n<polyline fill=\"none\" stroke=\"black\" points=\"140.5,-165.5 140.5,-201.5 \"/>\n<text text-anchor=\"middle\" x=\"192.5\" y=\"-179.8\" font-family=\"Times,serif\" font-size=\"14.00\">grad 0.0000</text>\n</g>\n<!-- 139904640980816* -->\n<g id=\"node10\" class=\"node\">\n<title>139904640980816*</title>\n<ellipse fill=\"none\" stroke=\"black\" cx=\"312\" cy=\"-128.5\" rx=\"27\" ry=\"18\"/>\n<text text-anchor=\"middle\" x=\"312\" y=\"-124.8\" font-family=\"Times,serif\" font-size=\"14.00\">*</text>\n</g>\n<!-- 139904640979184&#45;&gt;139904640980816* -->\n<g id=\"edge14\" class=\"edge\">\n<title>139904640979184&#45;&gt;139904640980816*</title>\n<path fill=\"none\" stroke=\"black\" d=\"M218.13,-165.46C228.63,-162.77 239.1,-159.78 249,-156.5 259.71,-152.96 271.05,-148.16 281.07,-143.54\"/>\n<polygon fill=\"black\" stroke=\"black\" points=\"282.67,-146.66 290.2,-139.21 279.67,-140.33 282.67,-146.66\"/>\n</g>\n<!-- 139904640978704 -->\n<g id=\"node8\" class=\"node\">\n<title>139904640978704</title>\n<polygon fill=\"none\" stroke=\"black\" points=\"748.5,-137.5 748.5,-173.5 980.5,-173.5 980.5,-137.5 748.5,-137.5\"/>\n<text text-anchor=\"middle\" x=\"761.5\" y=\"-151.8\" font-family=\"Times,serif\" font-size=\"14.00\">b</text>\n<polyline fill=\"none\" stroke=\"black\" points=\"774.5,-137.5 774.5,-173.5 \"/>\n<text text-anchor=\"middle\" x=\"825.5\" y=\"-151.8\" font-family=\"Times,serif\" font-size=\"14.00\">data 6.8814</text>\n<polyline fill=\"none\" stroke=\"black\" points=\"876.5,-137.5 876.5,-173.5 \"/>\n<text text-anchor=\"middle\" x=\"928.5\" y=\"-151.8\" font-family=\"Times,serif\" font-size=\"14.00\">grad 0.0000</text>\n</g>\n<!-- 139904640978704&#45;&gt;139904640983792+ -->\n<g id=\"edge12\" class=\"edge\">\n<title>139904640978704&#45;&gt;139904640983792+</title>\n<path fill=\"none\" stroke=\"black\" d=\"M980.7,-137.53C990.99,-135.92 1000.8,-134.4 1009.51,-133.04\"/>\n<polygon fill=\"black\" stroke=\"black\" points=\"1010.21,-136.47 1019.55,-131.47 1009.13,-129.55 1010.21,-136.47\"/>\n</g>\n<!-- 139904640980816 -->\n<g id=\"node9\" class=\"node\">\n<title>139904640980816</title>\n<polygon fill=\"none\" stroke=\"black\" points=\"375,-110.5 375,-146.5 620,-146.5 620,-110.5 375,-110.5\"/>\n<text text-anchor=\"middle\" x=\"392\" y=\"-124.8\" font-family=\"Times,serif\" font-size=\"14.00\">a1</text>\n<polyline fill=\"none\" stroke=\"black\" points=\"409,-110.5 409,-146.5 \"/>\n<text text-anchor=\"middle\" x=\"462.5\" y=\"-124.8\" font-family=\"Times,serif\" font-size=\"14.00\">data &#45;6.0000</text>\n<polyline fill=\"none\" stroke=\"black\" points=\"516,-110.5 516,-146.5 \"/>\n<text text-anchor=\"middle\" x=\"568\" y=\"-124.8\" font-family=\"Times,serif\" font-size=\"14.00\">grad 0.0000</text>\n</g>\n<!-- 139904640980816&#45;&gt;139904640983024+ -->\n<g id=\"edge10\" class=\"edge\">\n<title>139904640980816&#45;&gt;139904640983024+</title>\n<path fill=\"none\" stroke=\"black\" d=\"M616.53,-110.49C627.23,-108.86 637.41,-107.3 646.42,-105.93\"/>\n<polygon fill=\"black\" stroke=\"black\" points=\"647.05,-109.37 656.41,-104.4 646,-102.45 647.05,-109.37\"/>\n</g>\n<!-- 139904640980816*&#45;&gt;139904640980816 -->\n<g id=\"edge3\" class=\"edge\">\n<title>139904640980816*&#45;&gt;139904640980816</title>\n<path fill=\"none\" stroke=\"black\" d=\"M339.29,-128.5C346.79,-128.5 355.51,-128.5 364.93,-128.5\"/>\n<polygon fill=\"black\" stroke=\"black\" points=\"364.97,-132 374.97,-128.5 364.97,-125 364.97,-132\"/>\n</g>\n<!-- 139904640984944 -->\n<g id=\"node11\" class=\"node\">\n<title>139904640984944</title>\n<polygon fill=\"none\" stroke=\"black\" points=\"0,-110.5 0,-146.5 249,-146.5 249,-110.5 0,-110.5\"/>\n<text text-anchor=\"middle\" x=\"19\" y=\"-124.8\" font-family=\"Times,serif\" font-size=\"14.00\">w1</text>\n<polyline fill=\"none\" stroke=\"black\" points=\"38,-110.5 38,-146.5 \"/>\n<text text-anchor=\"middle\" x=\"91.5\" y=\"-124.8\" font-family=\"Times,serif\" font-size=\"14.00\">data &#45;3.0000</text>\n<polyline fill=\"none\" stroke=\"black\" points=\"145,-110.5 145,-146.5 \"/>\n<text text-anchor=\"middle\" x=\"197\" y=\"-124.8\" font-family=\"Times,serif\" font-size=\"14.00\">grad 0.0000</text>\n</g>\n<!-- 139904640984944&#45;&gt;139904640980816* -->\n<g id=\"edge7\" class=\"edge\">\n<title>139904640984944&#45;&gt;139904640980816*</title>\n<path fill=\"none\" stroke=\"black\" d=\"M249.23,-128.5C258.37,-128.5 267.05,-128.5 274.87,-128.5\"/>\n<polygon fill=\"black\" stroke=\"black\" points=\"274.95,-132 284.95,-128.5 274.95,-125 274.95,-132\"/>\n</g>\n<!-- 139904640981440 -->\n<g id=\"node12\" class=\"node\">\n<title>139904640981440</title>\n<polygon fill=\"none\" stroke=\"black\" points=\"1475.69,-109.5 1475.69,-145.5 1730.69,-145.5 1730.69,-109.5 1475.69,-109.5\"/>\n<text text-anchor=\"middle\" x=\"1500.19\" y=\"-123.8\" font-family=\"Times,serif\" font-size=\"14.00\">tanh</text>\n<polyline fill=\"none\" stroke=\"black\" points=\"1524.69,-109.5 1524.69,-145.5 \"/>\n<text text-anchor=\"middle\" x=\"1575.69\" y=\"-123.8\" font-family=\"Times,serif\" font-size=\"14.00\">data 0.7071</text>\n<polyline fill=\"none\" stroke=\"black\" points=\"1626.69,-109.5 1626.69,-145.5 \"/>\n<text text-anchor=\"middle\" x=\"1678.69\" y=\"-123.8\" font-family=\"Times,serif\" font-size=\"14.00\">grad 0.0000</text>\n</g>\n<!-- 139904640981440tanh&#45;&gt;139904640981440 -->\n<g id=\"edge4\" class=\"edge\">\n<title>139904640981440tanh&#45;&gt;139904640981440</title>\n<path fill=\"none\" stroke=\"black\" d=\"M1439.91,-127.5C1447.52,-127.5 1456.15,-127.5 1465.37,-127.5\"/>\n<polygon fill=\"black\" stroke=\"black\" points=\"1465.59,-131 1475.59,-127.5 1465.59,-124 1465.59,-131\"/>\n</g>\n<!-- 139904640983024 -->\n<g id=\"node14\" class=\"node\">\n<title>139904640983024</title>\n<polygon fill=\"none\" stroke=\"black\" points=\"746,-82.5 746,-118.5 983,-118.5 983,-82.5 746,-82.5\"/>\n<text text-anchor=\"middle\" x=\"759\" y=\"-96.8\" font-family=\"Times,serif\" font-size=\"14.00\">n</text>\n<polyline fill=\"none\" stroke=\"black\" points=\"772,-82.5 772,-118.5 \"/>\n<text text-anchor=\"middle\" x=\"825.5\" y=\"-96.8\" font-family=\"Times,serif\" font-size=\"14.00\">data &#45;6.0000</text>\n<polyline fill=\"none\" stroke=\"black\" points=\"879,-82.5 879,-118.5 \"/>\n<text text-anchor=\"middle\" x=\"931\" y=\"-96.8\" font-family=\"Times,serif\" font-size=\"14.00\">grad 0.0000</text>\n</g>\n<!-- 139904640983024&#45;&gt;139904640983792+ -->\n<g id=\"edge13\" class=\"edge\">\n<title>139904640983024&#45;&gt;139904640983792+</title>\n<path fill=\"none\" stroke=\"black\" d=\"M983.23,-118.21C992.6,-119.62 1001.52,-120.96 1009.52,-122.16\"/>\n<polygon fill=\"black\" stroke=\"black\" points=\"1009.06,-125.63 1019.47,-123.66 1010.1,-118.71 1009.06,-125.63\"/>\n</g>\n<!-- 139904640983024+&#45;&gt;139904640983024 -->\n<g id=\"edge5\" class=\"edge\">\n<title>139904640983024+&#45;&gt;139904640983024</title>\n<path fill=\"none\" stroke=\"black\" d=\"M710.1,-100.5C717.61,-100.5 726.33,-100.5 735.75,-100.5\"/>\n<polygon fill=\"black\" stroke=\"black\" points=\"735.78,-104 745.78,-100.5 735.78,-97 735.78,-104\"/>\n</g>\n</g>\n</svg>\n",
      "text/plain": [
       "<graphviz.graphs.Digraph at 0x7f3e166d9ae0>"
      ]
     },
     "execution_count": 137,
     "metadata": {},
     "output_type": "execute_result"
    }
   ],
   "source": [
    "b = Value(6.8814, label='b')\n",
    "w1 = Value(-3, label = 'w1')\n",
    "x1 = Value(2, label = 'x1')\n",
    "a1 = (w1*x1)\n",
    "a1.label = 'a1'\n",
    "w2 = Value(1, label = 'w2')\n",
    "x2 = Value(0, label = 'x2')\n",
    "a2 =  (w2*x2)\n",
    "a2.label='a2'\n",
    "n = a1 + a2\n",
    "n.label='n'\n",
    "o = n + b\n",
    "o.label='o'\n",
    "r = o.tanh()\n",
    "r.label='tanh'\n",
    "# c.grad = 1.0\n",
    "draw_dot(r)"
   ]
  },
  {
   "cell_type": "code",
   "execution_count": 144,
   "metadata": {},
   "outputs": [
    {
     "name": "stdout",
     "output_type": "stream",
     "text": [
      "w1\n",
      "x1\n",
      "a1\n",
      "w2\n",
      "x2\n",
      "a2\n",
      "n\n",
      "b\n",
      "o\n",
      "tanh\n"
     ]
    }
   ],
   "source": [
    "#We need to create a function which will iterate through each node, in a \"flattened\" way: topological sort\n",
    "order = []\n",
    "visited = set()\n",
    "def return_children(node):\n",
    "    if node not in visited:\n",
    "        visited.add(node)   # add it to the visited set\n",
    "        for prev in node._prev: # Keep iterating through to the children nodes\n",
    "            return_children(prev) # run again\n",
    "        order.append(node)        # Only once children nodes are done, add the parent\n",
    "return_children(r)\n",
    "for node in order:\n",
    "    print(node.label)"
   ]
  },
  {
   "cell_type": "code",
   "execution_count": null,
   "metadata": {},
   "outputs": [],
   "source": []
  },
  {
   "cell_type": "code",
   "execution_count": 142,
   "metadata": {},
   "outputs": [],
   "source": [
    "order.reverse()"
   ]
  },
  {
   "cell_type": "code",
   "execution_count": 143,
   "metadata": {},
   "outputs": [
    {
     "data": {
      "text/plain": [
       "[Value(0.7071199874301227),\n",
       " Value(0.8814000000000002),\n",
       " Value(6.8814),\n",
       " Value(-6),\n",
       " Value(0),\n",
       " Value(0),\n",
       " Value(1),\n",
       " Value(-6),\n",
       " Value(2),\n",
       " Value(-3)]"
      ]
     },
     "execution_count": 143,
     "metadata": {},
     "output_type": "execute_result"
    }
   ],
   "source": [
    "order"
   ]
  },
  {
   "cell_type": "code",
   "execution_count": 139,
   "metadata": {},
   "outputs": [
    {
     "name": "stdout",
     "output_type": "stream",
     "text": [
      "Value(0.7071199874301227)\n",
      "Value(0.8814000000000002)\n",
      "Value(-6)\n",
      "Value(-6)\n",
      "Value(-3)\n",
      "Value(2)\n",
      "Value(0)\n",
      "Value(1)\n",
      "Value(0)\n",
      "Value(6.8814)\n"
     ]
    },
    {
     "data": {
      "image/svg+xml": "<?xml version=\"1.0\" encoding=\"UTF-8\" standalone=\"no\"?>\n<!DOCTYPE svg PUBLIC \"-//W3C//DTD SVG 1.1//EN\"\n \"http://www.w3.org/Graphics/SVG/1.1/DTD/svg11.dtd\">\n<!-- Generated by graphviz version 2.43.0 (0)\n -->\n<!-- Title: %3 Pages: 1 -->\n<svg width=\"1739pt\" height=\"210pt\"\n viewBox=\"0.00 0.00 1738.69 210.00\" xmlns=\"http://www.w3.org/2000/svg\" xmlns:xlink=\"http://www.w3.org/1999/xlink\">\n<g id=\"graph0\" class=\"graph\" transform=\"scale(1 1) rotate(0) translate(4 206)\">\n<title>%3</title>\n<polygon fill=\"white\" stroke=\"transparent\" points=\"-4,4 -4,-206 1734.69,-206 1734.69,4 -4,4\"/>\n<!-- 139904640982976 -->\n<g id=\"node1\" class=\"node\">\n<title>139904640982976</title>\n<polygon fill=\"none\" stroke=\"black\" points=\"377.5,-55.5 377.5,-91.5 617.5,-91.5 617.5,-55.5 377.5,-55.5\"/>\n<text text-anchor=\"middle\" x=\"394.5\" y=\"-69.8\" font-family=\"Times,serif\" font-size=\"14.00\">a2</text>\n<polyline fill=\"none\" stroke=\"black\" points=\"411.5,-55.5 411.5,-91.5 \"/>\n<text text-anchor=\"middle\" x=\"462.5\" y=\"-69.8\" font-family=\"Times,serif\" font-size=\"14.00\">data 0.0000</text>\n<polyline fill=\"none\" stroke=\"black\" points=\"513.5,-55.5 513.5,-91.5 \"/>\n<text text-anchor=\"middle\" x=\"565.5\" y=\"-69.8\" font-family=\"Times,serif\" font-size=\"14.00\">grad 0.5000</text>\n</g>\n<!-- 139904640983024+ -->\n<g id=\"node15\" class=\"node\">\n<title>139904640983024+</title>\n<ellipse fill=\"none\" stroke=\"black\" cx=\"683\" cy=\"-100.5\" rx=\"27\" ry=\"18\"/>\n<text text-anchor=\"middle\" x=\"683\" y=\"-96.8\" font-family=\"Times,serif\" font-size=\"14.00\">+</text>\n</g>\n<!-- 139904640982976&#45;&gt;139904640983024+ -->\n<g id=\"edge9\" class=\"edge\">\n<title>139904640982976&#45;&gt;139904640983024+</title>\n<path fill=\"none\" stroke=\"black\" d=\"M617.56,-91.02C627.91,-92.54 637.75,-93.99 646.49,-95.27\"/>\n<polygon fill=\"black\" stroke=\"black\" points=\"646.15,-98.76 656.55,-96.76 647.17,-91.84 646.15,-98.76\"/>\n</g>\n<!-- 139904640982976* -->\n<g id=\"node2\" class=\"node\">\n<title>139904640982976*</title>\n<ellipse fill=\"none\" stroke=\"black\" cx=\"312\" cy=\"-73.5\" rx=\"27\" ry=\"18\"/>\n<text text-anchor=\"middle\" x=\"312\" y=\"-69.8\" font-family=\"Times,serif\" font-size=\"14.00\">*</text>\n</g>\n<!-- 139904640982976*&#45;&gt;139904640982976 -->\n<g id=\"edge1\" class=\"edge\">\n<title>139904640982976*&#45;&gt;139904640982976</title>\n<path fill=\"none\" stroke=\"black\" d=\"M339.29,-73.5C347.4,-73.5 356.94,-73.5 367.23,-73.5\"/>\n<polygon fill=\"black\" stroke=\"black\" points=\"367.32,-77 377.32,-73.5 367.32,-70 367.32,-77\"/>\n</g>\n<!-- 139904640982736 -->\n<g id=\"node3\" class=\"node\">\n<title>139904640982736</title>\n<polygon fill=\"none\" stroke=\"black\" points=\"2.5,-55.5 2.5,-91.5 246.5,-91.5 246.5,-55.5 2.5,-55.5\"/>\n<text text-anchor=\"middle\" x=\"21.5\" y=\"-69.8\" font-family=\"Times,serif\" font-size=\"14.00\">w2</text>\n<polyline fill=\"none\" stroke=\"black\" points=\"40.5,-55.5 40.5,-91.5 \"/>\n<text text-anchor=\"middle\" x=\"91.5\" y=\"-69.8\" font-family=\"Times,serif\" font-size=\"14.00\">data 1.0000</text>\n<polyline fill=\"none\" stroke=\"black\" points=\"142.5,-55.5 142.5,-91.5 \"/>\n<text text-anchor=\"middle\" x=\"194.5\" y=\"-69.8\" font-family=\"Times,serif\" font-size=\"14.00\">grad 0.0000</text>\n</g>\n<!-- 139904640982736&#45;&gt;139904640982976* -->\n<g id=\"edge8\" class=\"edge\">\n<title>139904640982736&#45;&gt;139904640982976*</title>\n<path fill=\"none\" stroke=\"black\" d=\"M246.64,-73.5C256.7,-73.5 266.26,-73.5 274.79,-73.5\"/>\n<polygon fill=\"black\" stroke=\"black\" points=\"275,-77 285,-73.5 275,-70 275,-77\"/>\n</g>\n<!-- 139904640984800 -->\n<g id=\"node4\" class=\"node\">\n<title>139904640984800</title>\n<polygon fill=\"none\" stroke=\"black\" points=\"4.5,-0.5 4.5,-36.5 244.5,-36.5 244.5,-0.5 4.5,-0.5\"/>\n<text text-anchor=\"middle\" x=\"21.5\" y=\"-14.8\" font-family=\"Times,serif\" font-size=\"14.00\">x2</text>\n<polyline fill=\"none\" stroke=\"black\" points=\"38.5,-0.5 38.5,-36.5 \"/>\n<text text-anchor=\"middle\" x=\"89.5\" y=\"-14.8\" font-family=\"Times,serif\" font-size=\"14.00\">data 0.0000</text>\n<polyline fill=\"none\" stroke=\"black\" points=\"140.5,-0.5 140.5,-36.5 \"/>\n<text text-anchor=\"middle\" x=\"192.5\" y=\"-14.8\" font-family=\"Times,serif\" font-size=\"14.00\">grad 0.5000</text>\n</g>\n<!-- 139904640984800&#45;&gt;139904640982976* -->\n<g id=\"edge11\" class=\"edge\">\n<title>139904640984800&#45;&gt;139904640982976*</title>\n<path fill=\"none\" stroke=\"black\" d=\"M214.42,-36.55C226.15,-39.54 237.93,-42.87 249,-46.5 259.46,-49.93 270.57,-54.47 280.46,-58.84\"/>\n<polygon fill=\"black\" stroke=\"black\" points=\"279.31,-62.17 289.87,-63.12 282.21,-55.79 279.31,-62.17\"/>\n</g>\n<!-- 139904640983792 -->\n<g id=\"node5\" class=\"node\">\n<title>139904640983792</title>\n<polygon fill=\"none\" stroke=\"black\" points=\"1109,-109.5 1109,-145.5 1340,-145.5 1340,-109.5 1109,-109.5\"/>\n<text text-anchor=\"middle\" x=\"1121.5\" y=\"-123.8\" font-family=\"Times,serif\" font-size=\"14.00\">o</text>\n<polyline fill=\"none\" stroke=\"black\" points=\"1134,-109.5 1134,-145.5 \"/>\n<text text-anchor=\"middle\" x=\"1185\" y=\"-123.8\" font-family=\"Times,serif\" font-size=\"14.00\">data 0.8814</text>\n<polyline fill=\"none\" stroke=\"black\" points=\"1236,-109.5 1236,-145.5 \"/>\n<text text-anchor=\"middle\" x=\"1288\" y=\"-123.8\" font-family=\"Times,serif\" font-size=\"14.00\">grad 0.5000</text>\n</g>\n<!-- 139904640981440tanh -->\n<g id=\"node13\" class=\"node\">\n<title>139904640981440tanh</title>\n<ellipse fill=\"none\" stroke=\"black\" cx=\"1407.85\" cy=\"-127.5\" rx=\"31.7\" ry=\"18\"/>\n<text text-anchor=\"middle\" x=\"1407.85\" y=\"-123.8\" font-family=\"Times,serif\" font-size=\"14.00\">tanh</text>\n</g>\n<!-- 139904640983792&#45;&gt;139904640981440tanh -->\n<g id=\"edge6\" class=\"edge\">\n<title>139904640983792&#45;&gt;139904640981440tanh</title>\n<path fill=\"none\" stroke=\"black\" d=\"M1340.09,-127.5C1349.01,-127.5 1357.6,-127.5 1365.47,-127.5\"/>\n<polygon fill=\"black\" stroke=\"black\" points=\"1365.73,-131 1375.73,-127.5 1365.73,-124 1365.73,-131\"/>\n</g>\n<!-- 139904640983792+ -->\n<g id=\"node6\" class=\"node\">\n<title>139904640983792+</title>\n<ellipse fill=\"none\" stroke=\"black\" cx=\"1046\" cy=\"-127.5\" rx=\"27\" ry=\"18\"/>\n<text text-anchor=\"middle\" x=\"1046\" y=\"-123.8\" font-family=\"Times,serif\" font-size=\"14.00\">+</text>\n</g>\n<!-- 139904640983792+&#45;&gt;139904640983792 -->\n<g id=\"edge2\" class=\"edge\">\n<title>139904640983792+&#45;&gt;139904640983792</title>\n<path fill=\"none\" stroke=\"black\" d=\"M1073.04,-127.5C1080.59,-127.5 1089.37,-127.5 1098.82,-127.5\"/>\n<polygon fill=\"black\" stroke=\"black\" points=\"1098.89,-131 1108.89,-127.5 1098.89,-124 1098.89,-131\"/>\n</g>\n<!-- 139904640979184 -->\n<g id=\"node7\" class=\"node\">\n<title>139904640979184</title>\n<polygon fill=\"none\" stroke=\"black\" points=\"2.5,-165.5 2.5,-201.5 246.5,-201.5 246.5,-165.5 2.5,-165.5\"/>\n<text text-anchor=\"middle\" x=\"19.5\" y=\"-179.8\" font-family=\"Times,serif\" font-size=\"14.00\">x1</text>\n<polyline fill=\"none\" stroke=\"black\" points=\"36.5,-165.5 36.5,-201.5 \"/>\n<text text-anchor=\"middle\" x=\"87.5\" y=\"-179.8\" font-family=\"Times,serif\" font-size=\"14.00\">data 2.0000</text>\n<polyline fill=\"none\" stroke=\"black\" points=\"138.5,-165.5 138.5,-201.5 \"/>\n<text text-anchor=\"middle\" x=\"192.5\" y=\"-179.8\" font-family=\"Times,serif\" font-size=\"14.00\">grad &#45;1.4999</text>\n</g>\n<!-- 139904640980816* -->\n<g id=\"node10\" class=\"node\">\n<title>139904640980816*</title>\n<ellipse fill=\"none\" stroke=\"black\" cx=\"312\" cy=\"-128.5\" rx=\"27\" ry=\"18\"/>\n<text text-anchor=\"middle\" x=\"312\" y=\"-124.8\" font-family=\"Times,serif\" font-size=\"14.00\">*</text>\n</g>\n<!-- 139904640979184&#45;&gt;139904640980816* -->\n<g id=\"edge14\" class=\"edge\">\n<title>139904640979184&#45;&gt;139904640980816*</title>\n<path fill=\"none\" stroke=\"black\" d=\"M218.13,-165.46C228.63,-162.77 239.1,-159.78 249,-156.5 259.71,-152.96 271.05,-148.16 281.07,-143.54\"/>\n<polygon fill=\"black\" stroke=\"black\" points=\"282.67,-146.66 290.2,-139.21 279.67,-140.33 282.67,-146.66\"/>\n</g>\n<!-- 139904640978704 -->\n<g id=\"node8\" class=\"node\">\n<title>139904640978704</title>\n<polygon fill=\"none\" stroke=\"black\" points=\"748.5,-137.5 748.5,-173.5 980.5,-173.5 980.5,-137.5 748.5,-137.5\"/>\n<text text-anchor=\"middle\" x=\"761.5\" y=\"-151.8\" font-family=\"Times,serif\" font-size=\"14.00\">b</text>\n<polyline fill=\"none\" stroke=\"black\" points=\"774.5,-137.5 774.5,-173.5 \"/>\n<text text-anchor=\"middle\" x=\"825.5\" y=\"-151.8\" font-family=\"Times,serif\" font-size=\"14.00\">data 6.8814</text>\n<polyline fill=\"none\" stroke=\"black\" points=\"876.5,-137.5 876.5,-173.5 \"/>\n<text text-anchor=\"middle\" x=\"928.5\" y=\"-151.8\" font-family=\"Times,serif\" font-size=\"14.00\">grad 0.5000</text>\n</g>\n<!-- 139904640978704&#45;&gt;139904640983792+ -->\n<g id=\"edge12\" class=\"edge\">\n<title>139904640978704&#45;&gt;139904640983792+</title>\n<path fill=\"none\" stroke=\"black\" d=\"M980.7,-137.53C990.99,-135.92 1000.8,-134.4 1009.51,-133.04\"/>\n<polygon fill=\"black\" stroke=\"black\" points=\"1010.21,-136.47 1019.55,-131.47 1009.13,-129.55 1010.21,-136.47\"/>\n</g>\n<!-- 139904640980816 -->\n<g id=\"node9\" class=\"node\">\n<title>139904640980816</title>\n<polygon fill=\"none\" stroke=\"black\" points=\"375,-110.5 375,-146.5 620,-146.5 620,-110.5 375,-110.5\"/>\n<text text-anchor=\"middle\" x=\"392\" y=\"-124.8\" font-family=\"Times,serif\" font-size=\"14.00\">a1</text>\n<polyline fill=\"none\" stroke=\"black\" points=\"409,-110.5 409,-146.5 \"/>\n<text text-anchor=\"middle\" x=\"462.5\" y=\"-124.8\" font-family=\"Times,serif\" font-size=\"14.00\">data &#45;6.0000</text>\n<polyline fill=\"none\" stroke=\"black\" points=\"516,-110.5 516,-146.5 \"/>\n<text text-anchor=\"middle\" x=\"568\" y=\"-124.8\" font-family=\"Times,serif\" font-size=\"14.00\">grad 0.5000</text>\n</g>\n<!-- 139904640980816&#45;&gt;139904640983024+ -->\n<g id=\"edge10\" class=\"edge\">\n<title>139904640980816&#45;&gt;139904640983024+</title>\n<path fill=\"none\" stroke=\"black\" d=\"M616.53,-110.49C627.23,-108.86 637.41,-107.3 646.42,-105.93\"/>\n<polygon fill=\"black\" stroke=\"black\" points=\"647.05,-109.37 656.41,-104.4 646,-102.45 647.05,-109.37\"/>\n</g>\n<!-- 139904640980816*&#45;&gt;139904640980816 -->\n<g id=\"edge3\" class=\"edge\">\n<title>139904640980816*&#45;&gt;139904640980816</title>\n<path fill=\"none\" stroke=\"black\" d=\"M339.29,-128.5C346.79,-128.5 355.51,-128.5 364.93,-128.5\"/>\n<polygon fill=\"black\" stroke=\"black\" points=\"364.97,-132 374.97,-128.5 364.97,-125 364.97,-132\"/>\n</g>\n<!-- 139904640984944 -->\n<g id=\"node11\" class=\"node\">\n<title>139904640984944</title>\n<polygon fill=\"none\" stroke=\"black\" points=\"0,-110.5 0,-146.5 249,-146.5 249,-110.5 0,-110.5\"/>\n<text text-anchor=\"middle\" x=\"19\" y=\"-124.8\" font-family=\"Times,serif\" font-size=\"14.00\">w1</text>\n<polyline fill=\"none\" stroke=\"black\" points=\"38,-110.5 38,-146.5 \"/>\n<text text-anchor=\"middle\" x=\"91.5\" y=\"-124.8\" font-family=\"Times,serif\" font-size=\"14.00\">data &#45;3.0000</text>\n<polyline fill=\"none\" stroke=\"black\" points=\"145,-110.5 145,-146.5 \"/>\n<text text-anchor=\"middle\" x=\"197\" y=\"-124.8\" font-family=\"Times,serif\" font-size=\"14.00\">grad 1.0000</text>\n</g>\n<!-- 139904640984944&#45;&gt;139904640980816* -->\n<g id=\"edge7\" class=\"edge\">\n<title>139904640984944&#45;&gt;139904640980816*</title>\n<path fill=\"none\" stroke=\"black\" d=\"M249.23,-128.5C258.37,-128.5 267.05,-128.5 274.87,-128.5\"/>\n<polygon fill=\"black\" stroke=\"black\" points=\"274.95,-132 284.95,-128.5 274.95,-125 274.95,-132\"/>\n</g>\n<!-- 139904640981440 -->\n<g id=\"node12\" class=\"node\">\n<title>139904640981440</title>\n<polygon fill=\"none\" stroke=\"black\" points=\"1475.69,-109.5 1475.69,-145.5 1730.69,-145.5 1730.69,-109.5 1475.69,-109.5\"/>\n<text text-anchor=\"middle\" x=\"1500.19\" y=\"-123.8\" font-family=\"Times,serif\" font-size=\"14.00\">tanh</text>\n<polyline fill=\"none\" stroke=\"black\" points=\"1524.69,-109.5 1524.69,-145.5 \"/>\n<text text-anchor=\"middle\" x=\"1575.69\" y=\"-123.8\" font-family=\"Times,serif\" font-size=\"14.00\">data 0.7071</text>\n<polyline fill=\"none\" stroke=\"black\" points=\"1626.69,-109.5 1626.69,-145.5 \"/>\n<text text-anchor=\"middle\" x=\"1678.69\" y=\"-123.8\" font-family=\"Times,serif\" font-size=\"14.00\">grad 1.0000</text>\n</g>\n<!-- 139904640981440tanh&#45;&gt;139904640981440 -->\n<g id=\"edge4\" class=\"edge\">\n<title>139904640981440tanh&#45;&gt;139904640981440</title>\n<path fill=\"none\" stroke=\"black\" d=\"M1439.91,-127.5C1447.52,-127.5 1456.15,-127.5 1465.37,-127.5\"/>\n<polygon fill=\"black\" stroke=\"black\" points=\"1465.59,-131 1475.59,-127.5 1465.59,-124 1465.59,-131\"/>\n</g>\n<!-- 139904640983024 -->\n<g id=\"node14\" class=\"node\">\n<title>139904640983024</title>\n<polygon fill=\"none\" stroke=\"black\" points=\"746,-82.5 746,-118.5 983,-118.5 983,-82.5 746,-82.5\"/>\n<text text-anchor=\"middle\" x=\"759\" y=\"-96.8\" font-family=\"Times,serif\" font-size=\"14.00\">n</text>\n<polyline fill=\"none\" stroke=\"black\" points=\"772,-82.5 772,-118.5 \"/>\n<text text-anchor=\"middle\" x=\"825.5\" y=\"-96.8\" font-family=\"Times,serif\" font-size=\"14.00\">data &#45;6.0000</text>\n<polyline fill=\"none\" stroke=\"black\" points=\"879,-82.5 879,-118.5 \"/>\n<text text-anchor=\"middle\" x=\"931\" y=\"-96.8\" font-family=\"Times,serif\" font-size=\"14.00\">grad 0.5000</text>\n</g>\n<!-- 139904640983024&#45;&gt;139904640983792+ -->\n<g id=\"edge13\" class=\"edge\">\n<title>139904640983024&#45;&gt;139904640983792+</title>\n<path fill=\"none\" stroke=\"black\" d=\"M983.23,-118.21C992.6,-119.62 1001.52,-120.96 1009.52,-122.16\"/>\n<polygon fill=\"black\" stroke=\"black\" points=\"1009.06,-125.63 1019.47,-123.66 1010.1,-118.71 1009.06,-125.63\"/>\n</g>\n<!-- 139904640983024+&#45;&gt;139904640983024 -->\n<g id=\"edge5\" class=\"edge\">\n<title>139904640983024+&#45;&gt;139904640983024</title>\n<path fill=\"none\" stroke=\"black\" d=\"M710.1,-100.5C717.61,-100.5 726.33,-100.5 735.75,-100.5\"/>\n<polygon fill=\"black\" stroke=\"black\" points=\"735.78,-104 745.78,-100.5 735.78,-97 735.78,-104\"/>\n</g>\n</g>\n</svg>\n",
      "text/plain": [
       "<graphviz.graphs.Digraph at 0x7f3e166da710>"
      ]
     },
     "execution_count": 139,
     "metadata": {},
     "output_type": "execute_result"
    }
   ],
   "source": [
    "r.backward()\n",
    "draw_dot(r)"
   ]
  },
  {
   "cell_type": "code",
   "execution_count": 64,
   "metadata": {},
   "outputs": [
    {
     "data": {
      "image/svg+xml": "<?xml version=\"1.0\" encoding=\"UTF-8\" standalone=\"no\"?>\n<!DOCTYPE svg PUBLIC \"-//W3C//DTD SVG 1.1//EN\"\n \"http://www.w3.org/Graphics/SVG/1.1/DTD/svg11.dtd\">\n<!-- Generated by graphviz version 2.43.0 (0)\n -->\n<!-- Title: %3 Pages: 1 -->\n<svg width=\"966pt\" height=\"100pt\"\n viewBox=\"0.00 0.00 966.00 100.00\" xmlns=\"http://www.w3.org/2000/svg\" xmlns:xlink=\"http://www.w3.org/1999/xlink\">\n<g id=\"graph0\" class=\"graph\" transform=\"scale(1 1) rotate(0) translate(4 96)\">\n<title>%3</title>\n<polygon fill=\"white\" stroke=\"transparent\" points=\"-4,4 -4,-96 962,-96 962,4 -4,4\"/>\n<!-- 139905006089840 -->\n<g id=\"node1\" class=\"node\">\n<title>139905006089840</title>\n<polygon fill=\"none\" stroke=\"black\" points=\"365,-55.5 365,-91.5 596,-91.5 596,-55.5 365,-55.5\"/>\n<text text-anchor=\"middle\" x=\"377.5\" y=\"-69.8\" font-family=\"Times,serif\" font-size=\"14.00\">e</text>\n<polyline fill=\"none\" stroke=\"black\" points=\"390,-55.5 390,-91.5 \"/>\n<text text-anchor=\"middle\" x=\"441\" y=\"-69.8\" font-family=\"Times,serif\" font-size=\"14.00\">data 1.0000</text>\n<polyline fill=\"none\" stroke=\"black\" points=\"492,-55.5 492,-91.5 \"/>\n<text text-anchor=\"middle\" x=\"544\" y=\"-69.8\" font-family=\"Times,serif\" font-size=\"14.00\">grad 0.0000</text>\n</g>\n<!-- 139905006079280* -->\n<g id=\"node6\" class=\"node\">\n<title>139905006079280*</title>\n<ellipse fill=\"none\" stroke=\"black\" cx=\"662\" cy=\"-45.5\" rx=\"27\" ry=\"18\"/>\n<text text-anchor=\"middle\" x=\"662\" y=\"-41.8\" font-family=\"Times,serif\" font-size=\"14.00\">*</text>\n</g>\n<!-- 139905006089840&#45;&gt;139905006079280* -->\n<g id=\"edge5\" class=\"edge\">\n<title>139905006089840&#45;&gt;139905006079280*</title>\n<path fill=\"none\" stroke=\"black\" d=\"M596.2,-55.61C606.76,-53.96 616.83,-52.39 625.74,-51\"/>\n<polygon fill=\"black\" stroke=\"black\" points=\"626.3,-54.46 635.64,-49.46 625.22,-47.54 626.3,-54.46\"/>\n</g>\n<!-- 139905006089840+ -->\n<g id=\"node2\" class=\"node\">\n<title>139905006089840+</title>\n<ellipse fill=\"none\" stroke=\"black\" cx=\"299\" cy=\"-73.5\" rx=\"27\" ry=\"18\"/>\n<text text-anchor=\"middle\" x=\"299\" y=\"-69.8\" font-family=\"Times,serif\" font-size=\"14.00\">+</text>\n</g>\n<!-- 139905006089840+&#45;&gt;139905006089840 -->\n<g id=\"edge1\" class=\"edge\">\n<title>139905006089840+&#45;&gt;139905006089840</title>\n<path fill=\"none\" stroke=\"black\" d=\"M326.1,-73.5C334.35,-73.5 344.09,-73.5 354.58,-73.5\"/>\n<polygon fill=\"black\" stroke=\"black\" points=\"354.85,-77 364.85,-73.5 354.85,-70 354.85,-77\"/>\n</g>\n<!-- 139905006083360 -->\n<g id=\"node3\" class=\"node\">\n<title>139905006083360</title>\n<polygon fill=\"none\" stroke=\"black\" points=\"362,-0.5 362,-36.5 599,-36.5 599,-0.5 362,-0.5\"/>\n<text text-anchor=\"middle\" x=\"375\" y=\"-14.8\" font-family=\"Times,serif\" font-size=\"14.00\">d</text>\n<polyline fill=\"none\" stroke=\"black\" points=\"388,-0.5 388,-36.5 \"/>\n<text text-anchor=\"middle\" x=\"441.5\" y=\"-14.8\" font-family=\"Times,serif\" font-size=\"14.00\">data &#45;6.0000</text>\n<polyline fill=\"none\" stroke=\"black\" points=\"495,-0.5 495,-36.5 \"/>\n<text text-anchor=\"middle\" x=\"547\" y=\"-14.8\" font-family=\"Times,serif\" font-size=\"14.00\">grad 0.0000</text>\n</g>\n<!-- 139905006083360&#45;&gt;139905006079280* -->\n<g id=\"edge4\" class=\"edge\">\n<title>139905006083360&#45;&gt;139905006079280*</title>\n<path fill=\"none\" stroke=\"black\" d=\"M599.23,-36.21C608.6,-37.62 617.52,-38.96 625.52,-40.16\"/>\n<polygon fill=\"black\" stroke=\"black\" points=\"625.06,-43.63 635.47,-41.66 626.1,-36.71 625.06,-43.63\"/>\n</g>\n<!-- 139905006083360* -->\n<g id=\"node4\" class=\"node\">\n<title>139905006083360*</title>\n<ellipse fill=\"none\" stroke=\"black\" cx=\"299\" cy=\"-18.5\" rx=\"27\" ry=\"18\"/>\n<text text-anchor=\"middle\" x=\"299\" y=\"-14.8\" font-family=\"Times,serif\" font-size=\"14.00\">*</text>\n</g>\n<!-- 139905006083360*&#45;&gt;139905006083360 -->\n<g id=\"edge2\" class=\"edge\">\n<title>139905006083360*&#45;&gt;139905006083360</title>\n<path fill=\"none\" stroke=\"black\" d=\"M326.1,-18.5C333.61,-18.5 342.33,-18.5 351.75,-18.5\"/>\n<polygon fill=\"black\" stroke=\"black\" points=\"351.78,-22 361.78,-18.5 351.78,-15 351.78,-22\"/>\n</g>\n<!-- 139905006079280 -->\n<g id=\"node5\" class=\"node\">\n<title>139905006079280</title>\n<polygon fill=\"none\" stroke=\"black\" points=\"725,-27.5 725,-63.5 958,-63.5 958,-27.5 725,-27.5\"/>\n<text text-anchor=\"middle\" x=\"736\" y=\"-41.8\" font-family=\"Times,serif\" font-size=\"14.00\">f</text>\n<polyline fill=\"none\" stroke=\"black\" points=\"747,-27.5 747,-63.5 \"/>\n<text text-anchor=\"middle\" x=\"800.5\" y=\"-41.8\" font-family=\"Times,serif\" font-size=\"14.00\">data &#45;6.0000</text>\n<polyline fill=\"none\" stroke=\"black\" points=\"854,-27.5 854,-63.5 \"/>\n<text text-anchor=\"middle\" x=\"906\" y=\"-41.8\" font-family=\"Times,serif\" font-size=\"14.00\">grad 0.0000</text>\n</g>\n<!-- 139905006079280*&#45;&gt;139905006079280 -->\n<g id=\"edge3\" class=\"edge\">\n<title>139905006079280*&#45;&gt;139905006079280</title>\n<path fill=\"none\" stroke=\"black\" d=\"M689.19,-45.5C696.71,-45.5 705.44,-45.5 714.84,-45.5\"/>\n<polygon fill=\"black\" stroke=\"black\" points=\"714.87,-49 724.87,-45.5 714.87,-42 714.87,-49\"/>\n</g>\n<!-- 139905008178496 -->\n<g id=\"node7\" class=\"node\">\n<title>139905008178496</title>\n<polygon fill=\"none\" stroke=\"black\" points=\"2,-55.5 2,-91.5 234,-91.5 234,-55.5 2,-55.5\"/>\n<text text-anchor=\"middle\" x=\"15\" y=\"-69.8\" font-family=\"Times,serif\" font-size=\"14.00\">b</text>\n<polyline fill=\"none\" stroke=\"black\" points=\"28,-55.5 28,-91.5 \"/>\n<text text-anchor=\"middle\" x=\"79\" y=\"-69.8\" font-family=\"Times,serif\" font-size=\"14.00\">data 3.0000</text>\n<polyline fill=\"none\" stroke=\"black\" points=\"130,-55.5 130,-91.5 \"/>\n<text text-anchor=\"middle\" x=\"182\" y=\"-69.8\" font-family=\"Times,serif\" font-size=\"14.00\">grad 0.0000</text>\n</g>\n<!-- 139905008178496&#45;&gt;139905006089840+ -->\n<g id=\"edge9\" class=\"edge\">\n<title>139905008178496&#45;&gt;139905006089840+</title>\n<path fill=\"none\" stroke=\"black\" d=\"M234.13,-73.5C243.97,-73.5 253.34,-73.5 261.74,-73.5\"/>\n<polygon fill=\"black\" stroke=\"black\" points=\"261.81,-77 271.81,-73.5 261.81,-70 261.81,-77\"/>\n</g>\n<!-- 139905008178496&#45;&gt;139905006083360* -->\n<g id=\"edge8\" class=\"edge\">\n<title>139905008178496&#45;&gt;139905006083360*</title>\n<path fill=\"none\" stroke=\"black\" d=\"M205.8,-55.5C216.06,-52.77 226.32,-49.77 236,-46.5 246.69,-42.89 258.02,-38.08 268.04,-33.47\"/>\n<polygon fill=\"black\" stroke=\"black\" points=\"269.64,-36.59 277.18,-29.15 266.65,-30.26 269.64,-36.59\"/>\n</g>\n<!-- 139905008175520 -->\n<g id=\"node8\" class=\"node\">\n<title>139905008175520</title>\n<polygon fill=\"none\" stroke=\"black\" points=\"0,-0.5 0,-36.5 236,-36.5 236,-0.5 0,-0.5\"/>\n<text text-anchor=\"middle\" x=\"12.5\" y=\"-14.8\" font-family=\"Times,serif\" font-size=\"14.00\">a</text>\n<polyline fill=\"none\" stroke=\"black\" points=\"25,-0.5 25,-36.5 \"/>\n<text text-anchor=\"middle\" x=\"78.5\" y=\"-14.8\" font-family=\"Times,serif\" font-size=\"14.00\">data &#45;2.0000</text>\n<polyline fill=\"none\" stroke=\"black\" points=\"132,-0.5 132,-36.5 \"/>\n<text text-anchor=\"middle\" x=\"184\" y=\"-14.8\" font-family=\"Times,serif\" font-size=\"14.00\">grad 0.0000</text>\n</g>\n<!-- 139905008175520&#45;&gt;139905006089840+ -->\n<g id=\"edge7\" class=\"edge\">\n<title>139905008175520&#45;&gt;139905006089840+</title>\n<path fill=\"none\" stroke=\"black\" d=\"M202.29,-36.52C213.7,-39.55 225.21,-42.89 236,-46.5 246.44,-49.99 257.55,-54.55 267.43,-58.92\"/>\n<polygon fill=\"black\" stroke=\"black\" points=\"266.29,-62.24 276.84,-63.18 269.18,-55.87 266.29,-62.24\"/>\n</g>\n<!-- 139905008175520&#45;&gt;139905006083360* -->\n<g id=\"edge6\" class=\"edge\">\n<title>139905008175520&#45;&gt;139905006083360*</title>\n<path fill=\"none\" stroke=\"black\" d=\"M236.15,-18.5C245.24,-18.5 253.91,-18.5 261.73,-18.5\"/>\n<polygon fill=\"black\" stroke=\"black\" points=\"261.82,-22 271.82,-18.5 261.82,-15 261.82,-22\"/>\n</g>\n</g>\n</svg>\n",
      "text/plain": [
       "<graphviz.graphs.Digraph at 0x7f3e2c58b010>"
      ]
     },
     "execution_count": 64,
     "metadata": {},
     "output_type": "execute_result"
    }
   ],
   "source": [
    "a = Value(-2.0, label = 'a')\n",
    "b = Value(3.0, label='b')\n",
    "d = a*b ; d.label='d'\n",
    "e = a+b ; e.label = 'e'\n",
    "f = d*e ; f.label= 'f'\n",
    "draw_dot(f)"
   ]
  },
  {
   "cell_type": "code",
   "execution_count": null,
   "metadata": {},
   "outputs": [],
   "source": [
    "set()"
   ]
  }
 ],
 "metadata": {
  "kernelspec": {
   "display_name": "lev_ml",
   "language": "python",
   "name": "python3"
  },
  "language_info": {
   "codemirror_mode": {
    "name": "ipython",
    "version": 3
   },
   "file_extension": ".py",
   "mimetype": "text/x-python",
   "name": "python",
   "nbconvert_exporter": "python",
   "pygments_lexer": "ipython3",
   "version": "3.10.0"
  },
  "orig_nbformat": 4
 },
 "nbformat": 4,
 "nbformat_minor": 2
}
