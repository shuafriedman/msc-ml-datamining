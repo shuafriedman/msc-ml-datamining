{
 "cells": [
  {
   "cell_type": "code",
   "execution_count": 1,
   "id": "9b29dd7f",
   "metadata": {},
   "outputs": [],
   "source": [
    "import findspark\n",
    "findspark.init()\n",
    "from pyspark import SparkContext"
   ]
  },
  {
   "cell_type": "code",
   "execution_count": 2,
   "id": "87577adc",
   "metadata": {},
   "outputs": [
    {
     "name": "stderr",
     "output_type": "stream",
     "text": [
      "23/07/24 17:09:21 WARN Utils: Your hostname, shua-VivoBook-ASUSLaptop-X513EAN-K513EA resolves to a loopback address: 127.0.1.1; using 10.144.125.210 instead (on interface wlo1)\n",
      "23/07/24 17:09:21 WARN Utils: Set SPARK_LOCAL_IP if you need to bind to another address\n",
      "23/07/24 17:09:26 WARN NativeCodeLoader: Unable to load native-hadoop library for your platform... using builtin-java classes where applicable\n",
      "Using Spark's default log4j profile: org/apache/spark/log4j-defaults.properties\n",
      "Setting default log level to \"WARN\".\n",
      "To adjust logging level use sc.setLogLevel(newLevel). For SparkR, use setLogLevel(newLevel).\n"
     ]
    }
   ],
   "source": [
    "sc=SparkContext()"
   ]
  },
  {
   "cell_type": "code",
   "execution_count": 3,
   "id": "12381312",
   "metadata": {},
   "outputs": [
    {
     "name": "stderr",
     "output_type": "stream",
     "text": [
      "                                                                                \r"
     ]
    },
    {
     "name": "stdout",
     "output_type": "stream",
     "text": [
      "[('a', 3), ('b', 1), ('c', 2)]\n",
      "[('b', 1), ('c', 2), ('a', 3)]\n"
     ]
    }
   ],
   "source": [
    "rdd = sc.parallelize([('b', 1), ('c', 2) , ('a', 3)])\n",
    "print(rdd.sortBy(lambda el: el[0]).collect()) # Sort by key\n",
    "print(rdd.sortBy(lambda el: el[1]).collect()) # Sort by value"
   ]
  },
  {
   "cell_type": "code",
   "execution_count": 3,
   "id": "64448256",
   "metadata": {},
   "outputs": [],
   "source": [
    "def adsMap(el):\n",
    "    els =el.split(',')\n",
    "    return (els[1], els[0])\n",
    "def channelsMap(el):\n",
    "    els =el.split(',')\n",
    "    return (els[0], els[1])\n",
    "def printRes(rdd):\n",
    "    for el in rdd.collect():\n",
    "        print((el[0], el[1]))"
   ]
  },
  {
   "cell_type": "code",
   "execution_count": 4,
   "id": "7abb4447",
   "metadata": {},
   "outputs": [],
   "source": [
    "ads = sc.textFile(\"data/ads.txt\").map(adsMap)\n",
    "channels = sc.textFile(\"data/channels.txt\").map(channelsMap)"
   ]
  },
  {
   "cell_type": "code",
   "execution_count": 9,
   "id": "4576f886",
   "metadata": {},
   "outputs": [
    {
     "data": {
      "text/plain": [
       "[('HVT', 'Air Taser Model 34000'),\n",
       " ('TLK', 'Air Taser Model 34000'),\n",
       " ('IJU', 'Air Taser Model 34000'),\n",
       " ('KHR', 'Air Taser Model 34000'),\n",
       " ('LEO', 'Air Taser Model 34000')]"
      ]
     },
     "execution_count": 9,
     "metadata": {},
     "output_type": "execute_result"
    }
   ],
   "source": [
    "ads.take(5)"
   ]
  },
  {
   "cell_type": "code",
   "execution_count": 8,
   "id": "85dddabf",
   "metadata": {},
   "outputs": [
    {
     "data": {
      "text/plain": [
       "[('GID', '14312'),\n",
       " ('PAY', '71628'),\n",
       " ('BRG', '71971'),\n",
       " ('YCR', '96656'),\n",
       " ('FRV', '44468')]"
      ]
     },
     "execution_count": 8,
     "metadata": {},
     "output_type": "execute_result"
    }
   ],
   "source": [
    "channels.take(5)"
   ]
  },
  {
   "cell_type": "code",
   "execution_count": 5,
   "id": "c23897f6",
   "metadata": {},
   "outputs": [
    {
     "name": "stderr",
     "output_type": "stream",
     "text": [
      "                                                                                \r"
     ]
    },
    {
     "data": {
      "text/plain": [
       "[('TLK', ('Air Taser Model 34000', '59811')),\n",
       " ('TLK', ('Apple iPad', '59811')),\n",
       " ('TLK', ('Bellsouth IBM Simon', '59811')),\n",
       " ('TLK', ('Digital Thermometer', '59811')),\n",
       " ('TLK', ('iRobot Roomba', '59811')),\n",
       " ('TLK', ('Magellan NAV 1000', '59811')),\n",
       " ('TLK', ('Motorola PageWriter 2000', '59811')),\n",
       " ('TLK', ('Sony Mavica MVC-FD5', '59811')),\n",
       " ('TLK', ('Spot Personal Tracker', '59811')),\n",
       " ('TLK', ('Velcro', '59811'))]"
      ]
     },
     "execution_count": 5,
     "metadata": {},
     "output_type": "execute_result"
    }
   ],
   "source": [
    "input = ads.join(channels)\n",
    "input.take(10)"
   ]
  },
  {
   "cell_type": "code",
   "execution_count": 10,
   "id": "446023be",
   "metadata": {},
   "outputs": [
    {
     "data": {
      "text/plain": [
       "[('Air Taser Model 34000', 59811),\n",
       " ('Apple iPad', 59811),\n",
       " ('Bellsouth IBM Simon', 59811),\n",
       " ('Digital Thermometer', 59811),\n",
       " ('iRobot Roomba', 59811)]"
      ]
     },
     "execution_count": 10,
     "metadata": {},
     "output_type": "execute_result"
    }
   ],
   "source": [
    "second = input.map(lambda el: (el[1][0], int(el[1][1])))\n",
    "second.take(5)"
   ]
  },
  {
   "cell_type": "code",
   "execution_count": 12,
   "id": "66f58a31",
   "metadata": {},
   "outputs": [
    {
     "data": {
      "text/plain": [
       "[('Apple iPad', 345245),\n",
       " ('iRobot Roomba', 839835),\n",
       " ('Sony Mavica MVC-FD5', 2250393),\n",
       " ('Velcro', 1841346),\n",
       " ('Clock Radio', 1254039),\n",
       " ('GRiD Compass 1101', 665914),\n",
       " ('Dirt Devil Hand Vac', 550769),\n",
       " ('Apple AirPort', 1391962),\n",
       " ('Epson HX-20', 2153635),\n",
       " ('Radio Shack TRS-80 Model 100', 1581662)]"
      ]
     },
     "execution_count": 12,
     "metadata": {},
     "output_type": "execute_result"
    }
   ],
   "source": [
    "res = second.reduceByKey(lambda sum, el: sum+el)\n",
    "res.take(10)"
   ]
  },
  {
   "cell_type": "code",
   "execution_count": 13,
   "id": "b04d13cc",
   "metadata": {},
   "outputs": [
    {
     "data": {
      "text/plain": [
       "[('Apple iPad', 345245),\n",
       " ('iRobot Roomba', 839835),\n",
       " ('Sony Mavica MVC-FD5', 2250393),\n",
       " ('Velcro', 1841346),\n",
       " ('Clock Radio', 1254039),\n",
       " ('GRiD Compass 1101', 665914),\n",
       " ('Dirt Devil Hand Vac', 550769),\n",
       " ('Apple AirPort', 1391962),\n",
       " ('Epson HX-20', 2153635),\n",
       " ('Radio Shack TRS-80 Model 100', 1581662)]"
      ]
     },
     "execution_count": 13,
     "metadata": {},
     "output_type": "execute_result"
    }
   ],
   "source": [
    "res = second.groupByKey().mapValues(lambda vals: sum(vals))\n",
    "res.take(10)"
   ]
  },
  {
   "cell_type": "code",
   "execution_count": 73,
   "id": "fdca64ce",
   "metadata": {},
   "outputs": [],
   "source": [
    "rdd = sc.parallelize([('A', 10), ('B', 20), ('C', 30)], 3)"
   ]
  },
  {
   "cell_type": "code",
   "execution_count": 74,
   "id": "7472a97c",
   "metadata": {},
   "outputs": [
    {
     "data": {
      "text/plain": [
       "[('A', 10), ('B', 20), ('C', 30)]"
      ]
     },
     "execution_count": 74,
     "metadata": {},
     "output_type": "execute_result"
    }
   ],
   "source": [
    "rdd.collect()"
   ]
  },
  {
   "cell_type": "code",
   "execution_count": 75,
   "id": "dc785a2b",
   "metadata": {},
   "outputs": [
    {
     "data": {
      "text/plain": [
       "[10, 20, 30]"
      ]
     },
     "execution_count": 75,
     "metadata": {},
     "output_type": "execute_result"
    }
   ],
   "source": [
    "rdd.map(lambda x: x[1]).collect()"
   ]
  },
  {
   "cell_type": "code",
   "execution_count": 50,
   "id": "1b44f9dd",
   "metadata": {},
   "outputs": [
    {
     "data": {
      "text/plain": [
       "['A', 10, 'B', 20, 'C', 30, 'D', 40]"
      ]
     },
     "execution_count": 50,
     "metadata": {},
     "output_type": "execute_result"
    }
   ],
   "source": [
    "rdd.flatMap(lambda el: el).collect()"
   ]
  },
  {
   "cell_type": "code",
   "execution_count": 77,
   "id": "5a0c1758",
   "metadata": {},
   "outputs": [
    {
     "name": "stdout",
     "output_type": "stream",
     "text": [
      "B [20]\n",
      "C [30]\n",
      "A [10]\n"
     ]
    }
   ],
   "source": [
    "grouped = rdd.groupByKey()\n",
    "for el in grouped.collect():\n",
    "    print(el[0], list(el[1]))"
   ]
  },
  {
   "cell_type": "code",
   "execution_count": 79,
   "id": "21bb6978",
   "metadata": {},
   "outputs": [
    {
     "data": {
      "text/plain": [
       "[(1, 'b'), (1, 'a'), (1, 'c'), (2, 'a')]"
      ]
     },
     "execution_count": 79,
     "metadata": {},
     "output_type": "execute_result"
    }
   ],
   "source": [
    "rdd = sc.parallelize([('b', 10), ('a',13), ('c',12), ('a', 20)],2)\n",
    "mapped = rdd.map(lambda el: (int(el[1]/10), el[0]))\n",
    "mapped.collect()"
   ]
  },
  {
   "cell_type": "code",
   "execution_count": 81,
   "id": "06d3574d",
   "metadata": {},
   "outputs": [
    {
     "data": {
      "text/plain": [
       "[(2, 'a'), (1, 'a')]"
      ]
     },
     "execution_count": 81,
     "metadata": {},
     "output_type": "execute_result"
    }
   ],
   "source": [
    "grouped = mapped.reduceByKey(lambda newel, el: min(newel, el))\n",
    "grouped.collect()"
   ]
  },
  {
   "cell_type": "code",
   "execution_count": null,
   "id": "c168988a",
   "metadata": {},
   "outputs": [],
   "source": []
  }
 ],
 "metadata": {
  "kernelspec": {
   "display_name": "Python 3",
   "language": "python",
   "name": "python3"
  },
  "language_info": {
   "codemirror_mode": {
    "name": "ipython",
    "version": 3
   },
   "file_extension": ".py",
   "mimetype": "text/x-python",
   "name": "python",
   "nbconvert_exporter": "python",
   "pygments_lexer": "ipython3",
   "version": "3.10.9"
  }
 },
 "nbformat": 4,
 "nbformat_minor": 5
}
